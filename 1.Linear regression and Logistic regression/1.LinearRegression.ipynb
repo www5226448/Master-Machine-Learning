{
 "cells": [
  {
   "cell_type": "code",
   "execution_count": 1,
   "metadata": {},
   "outputs": [],
   "source": [
    "import numpy as np\n",
    "from sklearn.datasets import load_boston\n",
    "from sklearn.model_selection import train_test_split\n",
    "from sklearn.metrics import mean_squared_error\n",
    "from scipy.optimize import minimize\n",
    "X,y=load_boston().data,load_boston().target\n",
    "X_train,X_test,y_train,y_test=train_test_split(X,y,test_size=0.3)"
   ]
  },
  {
   "cell_type": "code",
   "execution_count": 2,
   "metadata": {
    "scrolled": true
   },
   "outputs": [
    {
     "name": "stdout",
     "output_type": "stream",
     "text": [
      "[-1.31043506e-01  6.04865714e-02  5.94853121e-02  2.15080880e+00\n",
      " -1.65687954e+01  3.34100360e+00  4.57797487e-03 -1.58178200e+00\n",
      "  3.63824569e-01 -1.46189156e-02 -7.86740876e-01  1.07891326e-02\n",
      " -6.49490381e-01]\n",
      "36.687312980258326\n"
     ]
    }
   ],
   "source": [
    "from sklearn.linear_model import LinearRegression as sklearn_lr\n",
    "model=sklearn_lr().fit(X_train,y_train)\n",
    "print(model.coef_)\n",
    "print(model.intercept_)"
   ]
  },
  {
   "cell_type": "code",
   "execution_count": 3,
   "metadata": {},
   "outputs": [
    {
     "data": {
      "text/plain": [
       "array([16.62250395, 20.683891  , 27.71880899, 25.18047729, 13.23356249,\n",
       "       24.33070703, 35.70101566, 22.10780793, 25.32658297, 17.16526335])"
      ]
     },
     "execution_count": 3,
     "metadata": {},
     "output_type": "execute_result"
    }
   ],
   "source": [
    "model.predict(X_test)[:10]"
   ]
  },
  {
   "cell_type": "markdown",
   "metadata": {},
   "source": [
    "### 1.使用Scipy optimize求解线性回归"
   ]
  },
  {
   "cell_type": "code",
   "execution_count": 4,
   "metadata": {},
   "outputs": [
    {
     "name": "stdout",
     "output_type": "stream",
     "text": [
      "The unconstrained solution is optimal.\n",
      "Final cost 3.7978e+03, first-order optimality 1.41e-09\n"
     ]
    },
    {
     "data": {
      "text/plain": [
       "array([16.62250395, 20.683891  , 27.71880899, 25.18047729, 13.23356249])"
      ]
     },
     "execution_count": 4,
     "metadata": {},
     "output_type": "execute_result"
    }
   ],
   "source": [
    "from scipy.optimize import lsq_linear\n",
    "class LinearRegression:\n",
    "    def fit(self,X,y):\n",
    "        _,n=np.shape(X)\n",
    "        X=np.insert(X,n,1,axis=1)          #将X新增一列为1的列向量\n",
    "        A = X\n",
    "        b = y\n",
    "        res = lsq_linear(A, b, lsmr_tol='auto', verbose=1)\n",
    "        self.coef_=res.x[:-1]\n",
    "        self.intercept_=res.x[-1]\n",
    "        self.res=res\n",
    "        return self\n",
    "    def predict(self,X):\n",
    "        return np.array(X@self.coef_.reshape(-1,1)+self.intercept_).flatten()\n",
    "           \n",
    "model=LinearRegression().fit(X_train,y_train)\n",
    "model.predict(X_test)[:5]"
   ]
  },
  {
   "cell_type": "markdown",
   "metadata": {},
   "source": [
    "### 3.使用Scipy求解带L2正则化的线性回归"
   ]
  },
  {
   "cell_type": "code",
   "execution_count": 5,
   "metadata": {},
   "outputs": [],
   "source": [
    "def loss(w,X,y,c=0.1):\n",
    "    _,n=np.shape(X)\n",
    "    X=np.insert(X,n,1,axis=1)          #将X新增一列为1的列向量                                                 \n",
    "    loss=np.square(y-X@w).sum()+c*np.square(w[:-1]).sum()    #minmize ||y - Xw||^2_2 + alpha * ||w||^2_2\n",
    "    return loss"
   ]
  },
  {
   "cell_type": "code",
   "execution_count": 6,
   "metadata": {},
   "outputs": [
    {
     "data": {
      "text/plain": [
       "array([16.73548868, 20.72175151, 27.77544506, 25.09242262, 13.56257664,\n",
       "       24.22003259, 35.76556953, 22.03303312, 25.37807893, 17.1520344 ])"
      ]
     },
     "execution_count": 6,
     "metadata": {},
     "output_type": "execute_result"
    }
   ],
   "source": [
    "class Ridge:\n",
    "    def __init__(self,c=0.0001):\n",
    "        self.c=c\n",
    "    def fit(self,X,y):\n",
    "        init_w=np.random.randn(X.shape[1]+1)\n",
    "        res=minimize(loss,init_w,args=(X,y))\n",
    "        self.coef_=res.x[:-1]\n",
    "        self.intercept_=res.x[-1]\n",
    "        return self\n",
    "    def predict(self,X):\n",
    "        pred=X@self.coef_.T+self.intercept_\n",
    "        regularization=self.c*self.coef_.T@self.coef_\n",
    "        return pred+regularization\n",
    "model=Ridge().fit(X_train,y_train)\n",
    "pre=model.predict(X_test)\n",
    "pre[:10]"
   ]
  },
  {
   "cell_type": "code",
   "execution_count": 7,
   "metadata": {},
   "outputs": [
    {
     "data": {
      "text/plain": [
       "array([16.62260136, 20.68390587, 27.71884428, 25.18035379, 13.23389745,\n",
       "       24.33055799, 35.70106005, 22.10769835, 25.32661262, 17.16522178])"
      ]
     },
     "execution_count": 7,
     "metadata": {},
     "output_type": "execute_result"
    }
   ],
   "source": [
    "from sklearn.linear_model import Ridge as sklearn_Ridge\n",
    "model=sklearn_Ridge(alpha=0.0001).fit(X_train,y_train)\n",
    "pre2=model.predict(X_test)\n",
    "pre2[:10]"
   ]
  },
  {
   "cell_type": "markdown",
   "metadata": {},
   "source": [
    "### 3.使用梯度下降法求解线性回归"
   ]
  },
  {
   "cell_type": "code",
   "execution_count": 8,
   "metadata": {},
   "outputs": [],
   "source": [
    "import matplotlib.pyplot as plt\n",
    "%matplotlib inline\n",
    "class LinearRegression:\n",
    "    def __init__(self,learning_rate=0.03,max_iters=50):\n",
    "        self.learning_rate=learning_rate\n",
    "        self.max_iters=max_iters\n",
    "    def fit(self,X,y):\n",
    "        m,n=np.shape(X)\n",
    "        X=np.insert(X,n,1,axis=1)          #将X新增一列为1的列向量\n",
    "        W=np.random.randn(X.shape[1])\n",
    "        loss_series=[]\n",
    "        for i in range(self.max_iters):\n",
    "            error=X@W.T-y\n",
    "            grad=(2*X.T@error)/m\n",
    "            W=W-self.learning_rate*grad  #更新权重\n",
    "            current_loss=np.square(error).sum()/m\n",
    "            loss_series.append(current_loss)\n",
    "        plt.plot(range(self.max_iters),loss_series,color='black')\n",
    "        plt.xlabel('The number of iterations')\n",
    "        plt.ylabel('The mean square error')\n",
    "        self.W=W\n",
    "        self.coef_=W[:-1]\n",
    "        self.intercept=W[:-1]\n",
    "        \n",
    "        return self\n",
    "    def predict(self,X):\n",
    "        X_=np.full(shape=(X.shape[0],1),fill_value=1)\n",
    "        X=np.concatenate([X,X_],axis=1)\n",
    "        pre=X@self.W.T\n",
    "        return pre"
   ]
  },
  {
   "cell_type": "code",
   "execution_count": 9,
   "metadata": {},
   "outputs": [
    {
     "data": {
      "text/plain": [
       "4.6221953774663486e-05"
      ]
     },
     "execution_count": 9,
     "metadata": {},
     "output_type": "execute_result"
    },
    {
     "data": {
      "image/png": "[encoded data removed]",
      "text/plain": [
       "<Figure size 432x288 with 1 Axes>"
      ]
     },
     "metadata": {
      "needs_background": "light"
     },
     "output_type": "display_data"
    }
   ],
   "source": [
    "from sklearn.datasets import make_regression\n",
    "X,y=make_regression(n_features=10,n_samples=1000)\n",
    "X_train,X_test,y_train,y_test=train_test_split(X,y,test_size=0.3)\n",
    "lr=LinearRegression(learning_rate=0.1).fit(X_train,y_train)\n",
    "mean_squared_error(y_test,lr.predict(X_test))"
   ]
  }
 ],
 "metadata": {
  "kernelspec": {
   "display_name": "Python 3",
   "language": "python",
   "name": "python3"
  },
  "language_info": {
   "codemirror_mode": {
    "name": "ipython",
    "version": 3
   },
   "file_extension": ".py",
   "mimetype": "text/x-python",
   "name": "python",
   "nbconvert_exporter": "python",
   "pygments_lexer": "ipython3",
   "version": "3.6.8"
  }
 },
 "nbformat": 4,
 "nbformat_minor": 2
}
