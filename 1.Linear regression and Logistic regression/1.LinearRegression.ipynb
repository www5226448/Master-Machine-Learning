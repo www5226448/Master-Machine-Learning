{
 "cells": [
  {
   "cell_type": "markdown",
   "metadata": {},
   "source": [
    "### 1.什么是线性回归"
   ]
  },
  {
   "cell_type": "code",
   "execution_count": 3,
   "metadata": {},
   "outputs": [
    {
     "name": "stderr",
     "output_type": "stream",
     "text": [
      "/anaconda3/lib/python3.6/importlib/_bootstrap.py:219: RuntimeWarning: numpy.dtype size changed, may indicate binary incompatibility. Expected 96, got 88\n",
      "  return f(*args, **kwds)\n",
      "/anaconda3/lib/python3.6/importlib/_bootstrap.py:219: RuntimeWarning: numpy.ufunc size changed, may indicate binary incompatibility. Expected 216, got 192\n",
      "  return f(*args, **kwds)\n"
     ]
    }
   ],
   "source": [
    "import numpy as np\n",
    "from sklearn.datasets import make_regression\n",
    "from sklearn.model_selection import train_test_split\n",
    "from sklearn.metrics import mean_absolute_error,mean_squared_error\n",
    "from scipy.optimize import minimize\n",
    "X,y=make_regression(n_features=6,n_samples=200)\n",
    "X_train,X_test,y_train,y_test=train_test_split(X,y,test_size=0.3)"
   ]
  },
  {
   "cell_type": "code",
   "execution_count": 4,
   "metadata": {
    "scrolled": true
   },
   "outputs": [
    {
     "name": "stdout",
     "output_type": "stream",
     "text": [
      "[91.54190864 17.45131164 99.46381765 70.78883293 30.16254091 65.28260962]\n",
      "3.552713678800501e-15\n"
     ]
    }
   ],
   "source": [
    "from sklearn.linear_model import LinearRegression\n",
    "model=LinearRegression().fit(X_train,y_train)\n",
    "print(model.coef_)\n",
    "print(model.intercept_)"
   ]
  },
  {
   "cell_type": "code",
   "execution_count": 5,
   "metadata": {},
   "outputs": [
    {
     "data": {
      "text/plain": [
       "array([ -26.84819569,  -36.94440604,  201.13314808,  -16.05525907,\n",
       "          8.56466317, -222.30040597,   78.1154559 ,  136.43125401,\n",
       "        -71.60576969,   27.41663916])"
      ]
     },
     "execution_count": 5,
     "metadata": {},
     "output_type": "execute_result"
    }
   ],
   "source": [
    "model.predict(X_test)[:10]"
   ]
  },
  {
   "cell_type": "markdown",
   "metadata": {},
   "source": [
    "### 2.使用Scipy optimize求解线性回归"
   ]
  },
  {
   "cell_type": "code",
   "execution_count": 6,
   "metadata": {},
   "outputs": [
    {
     "name": "stdout",
     "output_type": "stream",
     "text": [
      "The unconstrained solution is optimal.\n",
      "Final cost 1.4593e-24, first-order optimality 1.69e-11\n"
     ]
    },
    {
     "data": {
      "text/plain": [
       "3"
      ]
     },
     "execution_count": 6,
     "metadata": {},
     "output_type": "execute_result"
    }
   ],
   "source": [
    "from scipy.optimize import lsq_linear\n",
    "class MyLinearRegression_scipy:\n",
    "    def fit(self,X,y):\n",
    "        X_=np.full((X.shape[0],1),fill_value=1)    #新增一列为1的列向量\n",
    "        X=np.concatenate([X,X_],axis=1)     #将X新增一列为1的列向量\n",
    "        A = X\n",
    "        b = y\n",
    "        res = lsq_linear(A, b, lsmr_tol='auto', verbose=1)\n",
    "        self.coef_=res.x[:-1]\n",
    "        self.intercept_=res.x[-1]\n",
    "        self.res=res\n",
    "        return self.res.status\n",
    "    def predict(self,X):\n",
    "        return np.array(np.mat(X)*np.mat(self.res.x[:-1].reshape(-1,1))+self.res.x[-1]).flatten()\n",
    "           \n",
    "model=MyLinearRegression_scipy()\n",
    "model.fit(X_train,y_train)"
   ]
  },
  {
   "cell_type": "code",
   "execution_count": 7,
   "metadata": {},
   "outputs": [
    {
     "data": {
      "text/plain": [
       "array([ -26.84819569,  -36.94440604,  201.13314808,  -16.05525907,\n",
       "          8.56466317, -222.30040597,   78.1154559 ,  136.43125401,\n",
       "        -71.60576969,   27.41663916])"
      ]
     },
     "execution_count": 7,
     "metadata": {},
     "output_type": "execute_result"
    }
   ],
   "source": [
    "model.predict(X_test)[:10]"
   ]
  },
  {
   "cell_type": "markdown",
   "metadata": {},
   "source": [
    "### 3.使用Numpy实现利用梯度为0求解线性回归"
   ]
  },
  {
   "cell_type": "code",
   "execution_count": 8,
   "metadata": {},
   "outputs": [],
   "source": [
    "class MyLinearRegression:\n",
    "    def __init__(self):\n",
    "        pass\n",
    "    def fit(self,X,y):\n",
    "        X_=np.full((X.shape[0],1),fill_value=1)   \n",
    "        X=np.concatenate([X,X_],axis=1)\n",
    "        X=np.mat(X)\n",
    "        #将W与b放在一起,所以需要将X新增一列全为1的列向量\n",
    "        y=np.mat(y.reshape(-1,1))\n",
    "        #将y重新转成矩阵，以便运算\n",
    "        w=np.array((X.T*X).I*X.T*y)  #直接通过公式计算结果，注意这种解法要求X为满秩矩阵\n",
    "        #计算w\n",
    "        self.__W=w[:-1]    \n",
    "        self.__b=w[-1].item()\n",
    "        #将W与b进行拆分\n",
    "        self.coef_=self.__W.flatten()  #将coefficient进行展开，允许外部访问\n",
    "        self.intercept_=self.__b       #构造斜率参数，允许外部访问\n",
    "    def predict(self,X):\n",
    "        return np.array(np.mat(X)*np.mat(self.__W)+self.__b).flatten()"
   ]
  },
  {
   "cell_type": "code",
   "execution_count": 9,
   "metadata": {},
   "outputs": [
    {
     "name": "stdout",
     "output_type": "stream",
     "text": [
      "[91.54190864 17.45131164 99.46381765 70.78883293 30.16254091 65.28260962]\n",
      "-1.7763568394002505e-15\n"
     ]
    }
   ],
   "source": [
    "myModel=MyLinearRegression()\n",
    "myModel.fit(X_train,y_train)\n",
    "print(myModel.coef_)\n",
    "print(myModel.intercept_)"
   ]
  },
  {
   "cell_type": "code",
   "execution_count": 10,
   "metadata": {},
   "outputs": [
    {
     "data": {
      "text/plain": [
       "array([ -26.84819569,  -36.94440604,  201.13314808,  -16.05525907,\n",
       "          8.56466317, -222.30040597,   78.1154559 ,  136.43125401,\n",
       "        -71.60576969,   27.41663916])"
      ]
     },
     "execution_count": 10,
     "metadata": {},
     "output_type": "execute_result"
    }
   ],
   "source": [
    "myModel.predict(X_test)[:10]"
   ]
  },
  {
   "cell_type": "markdown",
   "metadata": {},
   "source": [
    "### 3.使用Scipy求解带L2正则化的线性回归"
   ]
  },
  {
   "cell_type": "code",
   "execution_count": 24,
   "metadata": {},
   "outputs": [],
   "source": [
    "def loss(w,X,y,c=0.1):\n",
    "    X_=np.full((X_train.shape[0],1),fill_value=1)   \n",
    "    X=np.concatenate([X_train,X_],axis=1)\n",
    "    m,n=X.shape\n",
    "    j1=np.sum(np.square(np.dot(X,w)-y))\n",
    "    j2=np.sum(c*np.square(w*w))\n",
    "    j=(j1+j2)/(2*m)\n",
    "    return j"
   ]
  },
  {
   "cell_type": "code",
   "execution_count": 25,
   "metadata": {},
   "outputs": [
    {
     "name": "stdout",
     "output_type": "stream",
     "text": [
      "[32.61492653 19.2530531  36.27788125 30.7830539  21.20446244 29.3134558 ] -5.220856052552169\n"
     ]
    }
   ],
   "source": [
    "class LinearRegression_r2:\n",
    "    def __init__(self,c=0.1):\n",
    "        self.c=c\n",
    "    def fit(self,X,y):\n",
    "        init_w=np.random.randn(X.shape[1]+1)\n",
    "        res=minimize(loss,init_w,args=(X_train,y_train))\n",
    "        self.res=res\n",
    "        self.coef_=res.x[:-1]\n",
    "        self.intercept_=res.x[-1]\n",
    "        \n",
    "    def predict(self,X):\n",
    "        r1=np.dot(X,self.coef_.T)+self.intercept_\n",
    "        r2=self.c*np.dot(self.coef_.T,self.coef_)\n",
    "        return r1+r2\n",
    "model=LinearRegression_r2()\n",
    "model.fit(X_train,y_train)\n",
    "pre=model.predict(X_test)\n",
    "print(model.coef_,model.intercept_)"
   ]
  },
  {
   "cell_type": "code",
   "execution_count": 26,
   "metadata": {},
   "outputs": [
    {
     "name": "stdout",
     "output_type": "stream",
     "text": [
      "[506.84255734 489.37243148 589.65729493 465.00616387 477.18827607\n",
      " 401.44270935 557.04631281 552.39763066 451.27030993 497.07363173]\n"
     ]
    },
    {
     "data": {
      "text/plain": [
       "492.72553373169796"
      ]
     },
     "execution_count": 26,
     "metadata": {},
     "output_type": "execute_result"
    }
   ],
   "source": [
    "from sklearn.metrics import mean_squared_error,mean_absolute_error\n",
    "print(pre[:10])\n",
    "mean_absolute_error(y_test,pre)"
   ]
  },
  {
   "cell_type": "code",
   "execution_count": 27,
   "metadata": {},
   "outputs": [
    {
     "name": "stdout",
     "output_type": "stream",
     "text": [
      "[91.46519005 17.45532101 99.39750405 70.73918785 30.14818985 65.23657054] -0.007591986687160102\n"
     ]
    },
    {
     "data": {
      "text/plain": [
       "0.08524374633289238"
      ]
     },
     "execution_count": 27,
     "metadata": {},
     "output_type": "execute_result"
    }
   ],
   "source": [
    "from sklearn.linear_model import Ridge\n",
    "model=Ridge(alpha=0.1).fit(X_train,y_train)\n",
    "pre2=model.predict(X_test)\n",
    "print(model.coef_,model.intercept_)\n",
    "mean_absolute_error(y_test,pre2)"
   ]
  },
  {
   "cell_type": "markdown",
   "metadata": {},
   "source": [
    "### 4.使用梯度下降法求解线性回归"
   ]
  },
  {
   "cell_type": "code",
   "execution_count": 18,
   "metadata": {},
   "outputs": [],
   "source": [
    "class LinearRegression_grad:\n",
    "    def __init__(self,alpha=0.001,n_cycle=2000):\n",
    "        self.alpha=alpha\n",
    "        self.n_cycle=n_cycle\n",
    "    def fit(self,X,y):\n",
    "        X_=np.full(shape=(X.shape[0],1),fill_value=1)\n",
    "        X=np.concatenate([X,X_],axis=1)\n",
    "        W=np.random.randn(X.shape[1])\n",
    "        for i in range(self.n_cycle):\n",
    "            f1=2*X.T\n",
    "            f2=np.dot(X,W.T)-y\n",
    "            g=np.dot(f1,f2)    #计算梯度方向\n",
    "            W=W-self.alpha*g   #更新权重\n",
    "        self.W=W\n",
    "        self.coef_=W[:-1]\n",
    "        self.intercept=W[:-1]\n",
    "    def predict(self,X):\n",
    "        X_=np.full(shape=(X.shape[0],1),fill_value=1)\n",
    "        X=np.concatenate([X,X_],axis=1)\n",
    "        pre=np.dot(X,self.W.T)\n",
    "        return pre"
   ]
  },
  {
   "cell_type": "code",
   "execution_count": 19,
   "metadata": {},
   "outputs": [
    {
     "data": {
      "text/plain": [
       "2.711904774817716e-14"
      ]
     },
     "execution_count": 19,
     "metadata": {},
     "output_type": "execute_result"
    }
   ],
   "source": [
    "model=LinearRegression_grad()\n",
    "model.fit(X_train,y_train)\n",
    "pre=model.predict(X_test)\n",
    "mean_absolute_error(y_test,pre)"
   ]
  }
 ],
 "metadata": {
  "kernelspec": {
   "display_name": "Python 3",
   "language": "python",
   "name": "python3"
  },
  "language_info": {
   "codemirror_mode": {
    "name": "ipython",
    "version": 3
   },
   "file_extension": ".py",
   "mimetype": "text/x-python",
   "name": "python",
   "nbconvert_exporter": "python",
   "pygments_lexer": "ipython3",
   "version": "3.6.4"
  }
 },
 "nbformat": 4,
 "nbformat_minor": 2
}
