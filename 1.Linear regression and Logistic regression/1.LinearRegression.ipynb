{
 "cells": [
  {
   "cell_type": "code",
   "execution_count": 1,
   "metadata": {},
   "outputs": [],
   "source": [
    "import numpy as np\n",
    "from sklearn.datasets import load_boston\n",
    "from sklearn.model_selection import train_test_split\n",
    "from sklearn.metrics import mean_squared_error\n",
    "from scipy.optimize import minimize\n",
    "X,y=load_boston().data,load_boston().target\n",
    "X_train,X_test,y_train,y_test=train_test_split(X,y,test_size=0.3)"
   ]
  },
  {
   "cell_type": "code",
   "execution_count": 2,
   "metadata": {
    "scrolled": true
   },
   "outputs": [
    {
     "name": "stdout",
     "output_type": "stream",
     "text": [
      "[-1.19726335e-01  5.65988993e-02 -1.84206207e-02  3.42296323e+00\n",
      " -1.84799319e+01  3.46865075e+00  1.96811784e-02 -1.62153041e+00\n",
      "  3.67369693e-01 -1.25749610e-02 -1.03820109e+00  1.02757121e-02\n",
      " -5.95518239e-01]\n",
      "40.40341729474642\n"
     ]
    }
   ],
   "source": [
    "from sklearn.linear_model import LinearRegression as sklearn_lr\n",
    "model=sklearn_lr().fit(X_train,y_train)\n",
    "print(model.coef_)\n",
    "print(model.intercept_)"
   ]
  },
  {
   "cell_type": "code",
   "execution_count": 3,
   "metadata": {},
   "outputs": [
    {
     "data": {
      "text/plain": [
       "array([11.9539991 , 37.29066182, 12.80936221, 21.9002029 , 24.30231677,\n",
       "       19.95930151, 27.2244878 , 17.22401073, 16.0358917 , 18.67457325])"
      ]
     },
     "execution_count": 3,
     "metadata": {},
     "output_type": "execute_result"
    }
   ],
   "source": [
    "model.predict(X_test)[:10]"
   ]
  },
  {
   "cell_type": "markdown",
   "metadata": {},
   "source": [
    "### 1.使用Scipy optimize求解线性回归"
   ]
  },
  {
   "cell_type": "code",
   "execution_count": 4,
   "metadata": {},
   "outputs": [
    {
     "name": "stdout",
     "output_type": "stream",
     "text": [
      "The unconstrained solution is optimal.\n",
      "Final cost 4.1261e+03, first-order optimality 6.11e-09\n"
     ]
    },
    {
     "data": {
      "text/plain": [
       "array([11.9539991 , 37.29066182, 12.80936221, 21.9002029 , 24.30231677])"
      ]
     },
     "execution_count": 4,
     "metadata": {},
     "output_type": "execute_result"
    }
   ],
   "source": [
    "from scipy.optimize import lsq_linear\n",
    "class LinearRegression:\n",
    "    def fit(self,X,y):\n",
    "        _,n=np.shape(X)\n",
    "        X=np.insert(X,n,1,axis=1)          #将X新增一列为1的列向量\n",
    "        A = X\n",
    "        b = y\n",
    "        res = lsq_linear(A, b, lsmr_tol='auto', verbose=1)\n",
    "        self.coef_=res.x[:-1]\n",
    "        self.intercept_=res.x[-1]\n",
    "        self.res=res\n",
    "        return self\n",
    "    def predict(self,X):\n",
    "        return np.array(X@self.coef_.reshape(-1,1)+self.intercept_).flatten()\n",
    "           \n",
    "model=LinearRegression().fit(X_train,y_train)\n",
    "model.predict(X_test)[:5]"
   ]
  },
  {
   "cell_type": "markdown",
   "metadata": {},
   "source": [
    "### 3.使用Scipy求解带L2正则化的线性回归"
   ]
  },
  {
   "cell_type": "code",
   "execution_count": 5,
   "metadata": {},
   "outputs": [],
   "source": [
    "def loss(w,X,y,c=0.1):\n",
    "    _,n=np.shape(X)\n",
    "    X=np.insert(X,n,1,axis=1)          #将X新增一列为1的列向量                                                 \n",
    "    loss=np.square(y-X@w).sum()+c*np.square(w[:-1]).sum()    #minmize ||y - Xw||^2_2 + alpha * ||w||^2_2\n",
    "    return loss"
   ]
  },
  {
   "cell_type": "code",
   "execution_count": 6,
   "metadata": {},
   "outputs": [
    {
     "data": {
      "text/plain": [
       "array([12.2236093 , 37.40258523, 12.82581317, 21.97843787, 24.51227418,\n",
       "       20.0039469 , 27.27949901, 17.27185042, 16.26276704, 18.81287885])"
      ]
     },
     "execution_count": 6,
     "metadata": {},
     "output_type": "execute_result"
    }
   ],
   "source": [
    "class Ridge:\n",
    "    def __init__(self,c=0.0001):\n",
    "        self.c=c\n",
    "    def fit(self,X,y):\n",
    "        init_w=np.random.randn(X.shape[1]+1)\n",
    "        res=minimize(loss,init_w,args=(X,y))\n",
    "        self.coef_=res.x[:-1]\n",
    "        self.intercept_=res.x[-1]\n",
    "        return self\n",
    "    def predict(self,X):\n",
    "        pred=X@self.coef_.T+self.intercept_\n",
    "        regularization=self.c*self.coef_.T@self.coef_\n",
    "        return pred+regularization\n",
    "model=Ridge().fit(X_train,y_train)\n",
    "pre=model.predict(X_test)\n",
    "pre[:10]"
   ]
  },
  {
   "cell_type": "code",
   "execution_count": 7,
   "metadata": {},
   "outputs": [
    {
     "data": {
      "text/plain": [
       "array([11.95425932, 37.29074957, 12.80934583, 21.90025437, 24.3025132 ,\n",
       "       19.95931603, 27.22451349, 17.22402859, 16.03610534, 18.67469024])"
      ]
     },
     "execution_count": 7,
     "metadata": {},
     "output_type": "execute_result"
    }
   ],
   "source": [
    "from sklearn.linear_model import Ridge as sklearn_Ridge\n",
    "model=sklearn_Ridge(alpha=0.0001).fit(X_train,y_train)\n",
    "pre2=model.predict(X_test)\n",
    "pre2[:10]"
   ]
  },
  {
   "cell_type": "markdown",
   "metadata": {},
   "source": [
    "### 3.使用梯度下降法求解线性回归"
   ]
  },
  {
   "cell_type": "code",
   "execution_count": 8,
   "metadata": {},
   "outputs": [],
   "source": [
    "import matplotlib.pyplot as plt\n",
    "%matplotlib inline\n",
    "class LinearRegression:\n",
    "    def __init__(self,learning_rate=0.03,max_iters=50):\n",
    "        self.learning_rate=learning_rate\n",
    "        self.max_iters=max_iters\n",
    "    def fit(self,X,y):\n",
    "        m,n=np.shape(X)\n",
    "        X=np.insert(X,n,1,axis=1)          #将X新增一列为1的列向量\n",
    "        W=np.random.randn(X.shape[1])\n",
    "        loss_series=[]\n",
    "        for i in range(self.max_iters):\n",
    "            error=X@W.T-y\n",
    "            grad=(2*X.T@error)/m\n",
    "            W=W-self.learning_rate*grad  #更新权重\n",
    "            current_loss=np.square(error).sum()/m\n",
    "            loss_series.append(current_loss)\n",
    "        plt.plot(range(self.max_iters),loss_series,color='black')\n",
    "        plt.xlabel('The number of iterations')\n",
    "        plt.ylabel('The mean square error')\n",
    "        self.W=W\n",
    "        self.coef_=W[:-1]\n",
    "        self.intercept=W[:-1]\n",
    "        \n",
    "        return self\n",
    "    def predict(self,X):\n",
    "        X_=np.full(shape=(X.shape[0],1),fill_value=1)\n",
    "        X=np.concatenate([X,X_],axis=1)\n",
    "        pre=X@self.W.T\n",
    "        return pre"
   ]
  },
  {
   "cell_type": "code",
   "execution_count": 9,
   "metadata": {},
   "outputs": [
    {
     "data": {
      "text/plain": [
       "4.2219760078790404e-05"
      ]
     },
     "execution_count": 9,
     "metadata": {},
     "output_type": "execute_result"
    },
    {
     "data": {
      "image/png": "[encoded data removed]",
      "text/plain": [
       "<matplotlib.figure.Figure at 0x131ce9e10>"
      ]
     },
     "metadata": {},
     "output_type": "display_data"
    }
   ],
   "source": [
    "from sklearn.datasets import make_regression\n",
    "X,y=make_regression(n_features=10,n_samples=1000)\n",
    "X_train,X_test,y_train,y_test=train_test_split(X,y,test_size=0.3)\n",
    "lr=LinearRegression(learning_rate=0.1).fit(X_train,y_train)\n",
    "mean_squared_error(y_test,lr.predict(X_test))"
   ]
  },
  {
   "cell_type": "markdown",
   "metadata": {},
   "source": [
    "### 4.使用随机梯度下降法"
   ]
  },
  {
   "cell_type": "code",
   "execution_count": 18,
   "metadata": {},
   "outputs": [],
   "source": [
    "class LinearRegression:\n",
    "    def __init__(self,learning_rate=0.03,max_iters=100):\n",
    "        self.learning_rate=learning_rate\n",
    "        self.max_iters=max_iters\n",
    "    def fit(self,X,y):\n",
    "        m,n=np.shape(X)\n",
    "        X=np.insert(X,n,1,axis=1)          #将X新增一列为1的列向量\n",
    "        W=np.random.randn(X.shape[1])\n",
    "        loss_series=[]\n",
    "        for i in range(self.max_iters):\n",
    "            dataIndex=list(range(m))\n",
    "            for j in range(m):\n",
    "                alpha = 4/(1.0+j+i)+0.001   \n",
    "                randIndex = int(np.random.uniform(0,len(dataIndex)))  #随机挑选一个样本进行迭代                       \n",
    "                error=X[randIndex]@W.T-y[randIndex]\n",
    "                grad=(X[randIndex].T*error)/m\n",
    "                W=W-self.learning_rate*grad  #更新权重\n",
    "                del (dataIndex[randIndex])\n",
    "            current_loss=np.square(error).sum()/m\n",
    "            loss_series.append(current_loss)\n",
    "        plt.plot(range(self.max_iters),loss_series,color='black')\n",
    "        plt.xlabel('The number of iterations')\n",
    "        plt.ylabel('The mean square error')\n",
    "        self.W=W\n",
    "        self.coef_=W[:-1]\n",
    "        self.intercept=W[:-1]\n",
    "        \n",
    "        return self\n",
    "    def predict(self,X):\n",
    "        X_=np.full(shape=(X.shape[0],1),fill_value=1)\n",
    "        X=np.concatenate([X,X_],axis=1)\n",
    "        pre=X@self.W.T\n",
    "        return pre"
   ]
  },
  {
   "cell_type": "code",
   "execution_count": 19,
   "metadata": {},
   "outputs": [
    {
     "data": {
      "text/plain": [
       "0.0004403489908882859"
      ]
     },
     "execution_count": 19,
     "metadata": {},
     "output_type": "execute_result"
    },
    {
     "data": {
      "image/png": "[encoded data removed]",
      "text/plain": [
       "<matplotlib.figure.Figure at 0x136dae470>"
      ]
     },
     "metadata": {},
     "output_type": "display_data"
    }
   ],
   "source": [
    "lr=LinearRegression(learning_rate=0.1).fit(X_train,y_train)\n",
    "mean_squared_error(y_test,lr.predict(X_test))"
   ]
  },
  {
   "cell_type": "code",
   "execution_count": null,
   "metadata": {},
   "outputs": [],
   "source": []
  }
 ],
 "metadata": {
  "kernelspec": {
   "display_name": "Python 3",
   "language": "python",
   "name": "python3"
  },
  "language_info": {
   "codemirror_mode": {
    "name": "ipython",
    "version": 3
   },
   "file_extension": ".py",
   "mimetype": "text/x-python",
   "name": "python",
   "nbconvert_exporter": "python",
   "pygments_lexer": "ipython3",
   "version": "3.6.4"
  }
 },
 "nbformat": 4,
 "nbformat_minor": 2
}
