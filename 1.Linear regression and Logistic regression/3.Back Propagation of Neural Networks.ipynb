{
 "cells": [
  {
   "cell_type": "code",
   "execution_count": 7,
   "metadata": {},
   "outputs": [
    {
     "data": {
      "text/plain": [
       "(array([[ 1.26405235, -0.0189049 ],\n",
       "        [ 0.47873798,  1.81916973],\n",
       "        [ 1.36755799, -1.38538395]]), array([[1.43528206, 1.45048303],\n",
       "        [1.1251739 , 0.74397013],\n",
       "        [1.128319  , 1.5324854 ]]), array([[0.71973283, 0.62183077, 0.95707225],\n",
       "        [0.28306295, 0.39846117, 0.27351902]]))"
      ]
     },
     "execution_count": 7,
     "metadata": {},
     "output_type": "execute_result"
    },
    {
     "data": {
      "image/png": "[encoded data removed]",
      "text/plain": [
       "<Figure size 432x288 with 1 Axes>"
      ]
     },
     "metadata": {
      "needs_background": "light"
     },
     "output_type": "display_data"
    }
   ],
   "source": [
    "\"\"\"\n",
    "Created on Sun Dec  9 09:41:42 2018\n",
    "@author: Jude.wang\n",
    "Email：wangyifan7836@gamil.com\n",
    "Theme：Building a classifier using a neural network\n",
    "Mathematical basis：Back propagation of BP algorithm\n",
    "\"\"\"\n",
    "import numpy as np\n",
    "import matplotlib.pyplot as plt\n",
    "%matplotlib inline\n",
    "from scipy.io import loadmat\n",
    "data=loadmat(r'data.mat')['data']\n",
    "np.random.seed(0)\n",
    "\n",
    "\n",
    "\n",
    "def back_propagation(train_data,eta):\n",
    "    l,n=train_data.shape\n",
    "    w=np.random.randn(3,2)-0.5\n",
    "    v=np.random.rand(2,3)-0.5\n",
    "    u=np.random.rand(3,2)-0.5\n",
    "    delta3=np.array([0.5,0.5])  #给定初始delta\n",
    "    delta2=np.array([0.5,0.5,0.5])\n",
    "    delta1=np.array([0.5,0.5])\n",
    "    mean_square_errors=[]\n",
    "    for i in range(n):\n",
    "        x=train_data[:,i][:3]\n",
    "        y=train_data[:,i][3:]\n",
    "        net2=np.dot(x,w)            #第一层求和\n",
    "        hidden1=1/(1+m.e**-net2)   #进行sigmod的输出\n",
    "        net3=np.dot(hidden1,v)     #第二次求和值\n",
    "        hidden2=1/(1+m.e**-net3)   #进行sigmod的输出\n",
    "        net4=np.dot(hidden2,u)    #进行第三次求和\n",
    "        o=1/(1+m.e**-net4)         #进行sigmod处理输出最终的值\n",
    "        ####反向传播计算——————————————————————————————————————\n",
    "        delta3=(o-y)*o*(1-o)       #最后一个delta值\n",
    "        for j in range(3):          #计算公式，与其后一层的delta值有关\n",
    "            delta2[j]=hidden2[j]*(1-hidden2[j])*np.dot(delta3,u.T[:,j])   \n",
    "        for k in range(2):         #计算公式，与其后一层的delta有关\n",
    "            delta1[k]=hidden1[k]*(1-hidden1[k])*np.dot(delta2,v.T[:,k])\n",
    "        #开始更新权重————————————————————————————————————————\n",
    "        for i in range(3):\n",
    "            for j in range(2):\n",
    "                u[i,j]=u[i,j]-eta*delta3[j]*hidden2[i]\n",
    "        for i in range(2):\n",
    "            for j in range(3):\n",
    "                v[i,j]=v[i,j]-eta*delta2[j]*hidden1[i]\n",
    "        for i in range(3):\n",
    "            for j in range(2):\n",
    "                w[i,j]=w[i,j]-eta*delta1[j]*x[i]\n",
    "        p=np.dot(o-y,o-y)\n",
    "        mean_square_errors.append(p)\n",
    "    plt.plot(range(n),mean_square_errors,color='g')\n",
    "    plt.xlabel('Training times')\n",
    "    plt.ylabel('Current error')\n",
    "    plt.title('Error reduction curve')\n",
    "\n",
    "    return w,u,v\n",
    "\n",
    "\n",
    "back_propagation(data,0.9)"
   ]
  },
  {
   "cell_type": "code",
   "execution_count": null,
   "metadata": {},
   "outputs": [],
   "source": []
  }
 ],
 "metadata": {
  "kernelspec": {
   "display_name": "Python 3",
   "language": "python",
   "name": "python3"
  },
  "language_info": {
   "codemirror_mode": {
    "name": "ipython",
    "version": 3
   },
   "file_extension": ".py",
   "mimetype": "text/x-python",
   "name": "python",
   "nbconvert_exporter": "python",
   "pygments_lexer": "ipython3",
   "version": "3.6.8"
  }
 },
 "nbformat": 4,
 "nbformat_minor": 2
}
