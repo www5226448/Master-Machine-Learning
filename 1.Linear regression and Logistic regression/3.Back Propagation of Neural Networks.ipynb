{
 "cells": [
  {
   "cell_type": "code",
   "execution_count": 4,
   "metadata": {},
   "outputs": [
    {
     "data": {
      "image/png": "[encoded data removed]",
      "text/plain": [
       "<matplotlib.figure.Figure at 0x181c374cc0>"
      ]
     },
     "metadata": {},
     "output_type": "display_data"
    }
   ],
   "source": [
    "\"\"\"\n",
    "Created on Sun Dec  9 09:41:42 2018\n",
    "@author: Jude.wang\n",
    "Email：wangyifan7836@gamil.com\n",
    "Theme：Building a classifier using a neural network\n",
    "Mathematical basis：Back propagation of BP algorithm\n",
    "\"\"\"\n",
    "import numpy as np\n",
    "import pandas as pd\n",
    "import math as m\n",
    "import matplotlib.pyplot as plt\n",
    "%matplotlib inline\n",
    "from scipy.io import loadmat\n",
    "np.random.randn(9999)\n",
    "data=loadmat(r'data.mat')['data']\n",
    "\n",
    "\n",
    "\n",
    "\n",
    "def BP_function(train_data,eta):\n",
    "    l,n=train_data.shape\n",
    "    w=np.random.randn(3,2)-0.5\n",
    "    v=np.random.rand(2,3)-0.5\n",
    "    u=np.random.rand(3,2)-0.5\n",
    "    delta3=np.array([0.5,0.5])  #给定初始delta\n",
    "    delta2=np.array([0.5,0.5,0.5])\n",
    "    delta1=np.array([0.5,0.5])\n",
    "    L=[]\n",
    "    for i in range(n):\n",
    "        x=train_data[:,i][:3]\n",
    "        y=train_data[:,i][3:]\n",
    "        net2=np.dot(x,w)            #第一层求和\n",
    "        hidden1=1/(1+m.e**-net2)   #进行sigmod的输出\n",
    "        net3=np.dot(hidden1,v)     #第二次求和值\n",
    "        hidden2=1/(1+m.e**-net3)   #进行sigmod的输出\n",
    "        net4=np.dot(hidden2,u)    #进行第三次求和\n",
    "        o=1/(1+m.e**-net4)         #进行sigmod处理输出最终的值\n",
    "        ####反向传播计算——————————————————————————————————————\n",
    "        delta3=(o-y)*o*(1-o)       #最后一个delta值\n",
    "        for j in range(3):          #计算公式，与其后一层的delta值有关\n",
    "            delta2[j]=hidden2[j]*(1-hidden2[j])*np.dot(delta3,u.T[:,j])   \n",
    "        for k in range(2):         #计算公式，与其后一层的delta有关\n",
    "            delta1[k]=hidden1[k]*(1-hidden1[k])*np.dot(delta2,v.T[:,k])\n",
    "        #开始更新权重————————————————————————————————————————\n",
    "        for i in range(3):\n",
    "            for j in range(2):\n",
    "                u[i,j]=u[i,j]-eta*delta3[j]*hidden2[i]\n",
    "        for i in range(2):\n",
    "            for j in range(3):\n",
    "                v[i,j]=v[i,j]-eta*delta2[j]*hidden1[i]\n",
    "        for i in range(3):\n",
    "            for j in range(2):\n",
    "                w[i,j]=w[i,j]-eta*delta1[j]*x[i]\n",
    "        p=np.dot(o-y,o-y)\n",
    "        L.append(p)\n",
    "    stat=pd.Series(L)\n",
    "    return stat\n",
    "\n",
    "\n",
    "plt.plot(BP_function(data,0.9))\n",
    "plt.xlabel('Training times')\n",
    "plt.ylabel('Current error')\n",
    "plt.title('Error reduction curve')\n",
    "plt.show()"
   ]
  },
  {
   "cell_type": "code",
   "execution_count": null,
   "metadata": {},
   "outputs": [],
   "source": []
  }
 ],
 "metadata": {
  "kernelspec": {
   "display_name": "Python 3",
   "language": "python",
   "name": "python3"
  },
  "language_info": {
   "codemirror_mode": {
    "name": "ipython",
    "version": 3
   },
   "file_extension": ".py",
   "mimetype": "text/x-python",
   "name": "python",
   "nbconvert_exporter": "python",
   "pygments_lexer": "ipython3",
   "version": "3.6.4"
  }
 },
 "nbformat": 4,
 "nbformat_minor": 2
}
