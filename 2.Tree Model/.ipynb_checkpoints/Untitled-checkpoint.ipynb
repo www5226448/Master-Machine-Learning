{
 "cells": [
  {
   "cell_type": "code",
   "execution_count": 5,
   "metadata": {},
   "outputs": [],
   "source": [
    "from scipy.stats import multivariate_normal\n",
    "import numpy as np\n",
    "def Gaussian(X,means,covs):\n",
    "    m,n=X.shape\n",
    "    k=len(means)  \n",
    "    probs=np.zeros((m,k))\n",
    "    for i,j in enumerate(means):\n",
    "        prob=multivariate_normal(means[i], covs[i]).pdf(X)\n",
    "        probs[:,i]=prob\n",
    "    return probs\n",
    "\n",
    "class GMM:\n",
    "    def __init__(self,n_components):\n",
    "        self.K=n_components                     #初始化k个高斯分布\n",
    "        self.weights=np.ones(n_components)/n_components  #初始化k个高斯分布的权重\n",
    "        \n",
    "    def fit(self,X):\n",
    "        self.Data=X.copy()\n",
    "        m,n=self.Data.shape   #原始数据的size\n",
    "        self.means=np.vstack([np.mean(self.Data,axis=0) for i in range(self.K)])\n",
    "        self.covars=[np.cov(X.T) for i in range(self.K)]       #初始化协方差矩阵\n",
    "\n",
    "    \n",
    "        loglikelyhood=0\n",
    "        oldloglikelyhood=1\n",
    "        \n",
    "        gammas = np.zeros((m,self.K))   # gamma表示第n个样本属于第k个混合高斯的概率     \n",
    "        \n",
    "        while np.abs(loglikelyhood-oldloglikelyhood) > 1e-5:\n",
    "            oldloglikelyhood = loglikelyhood\n",
    "            # E-step\n",
    "            gammas=Gaussian(self.Data,self.means,self.covars)\n",
    "            respons=self.weights*gammas\n",
    "            respons=respons/np.sum(respons,axis=1).reshape(-1,1)\n",
    "            \n",
    "            #M-step\n",
    "            Nk=np.sum(respons,axis=0)\n",
    "            self.weights=Nk/m\n",
    "            for i in range(self.K):\n",
    "                self.means[i]=np.sum(respons[:,i].reshape(-1,1)*self.Data,axis=0)/Nk[i]\n",
    "                xdiffs=self.Data-self.means[i]\n",
    "                self.covars[i] = xdiffs.T@(xdiffs *respons[:,i][:,np.newaxis])/Nk[i]\n",
    "            loglikelyhood_list=np.log(np.sum(Gaussian(self.Data,self.means,self.covars)*self.weights,axis=1))\n",
    "            s=1\n",
    "            for i in loglikelyhood_list:\n",
    "                loglikelyhood=s*i\n",
    "            print(loglikelyhood)\n",
    "        self.probs=gammas\n",
    "        self.__means=self.means\n",
    "        self.__covars=self.covars\n",
    "        self.respons=respons\n",
    "        \n",
    "        return self\n",
    "        \n",
    "    def predict(self,X):\n",
    "        probs=Gaussian(X,self.means,self.covars)\n",
    "        res=np.argmax(probs,axis=1)\n",
    "        return res\n",
    "       "
   ]
  },
  {
   "cell_type": "code",
   "execution_count": 6,
   "metadata": {
    "scrolled": true
   },
   "outputs": [
    {
     "name": "stdout",
     "output_type": "stream",
     "text": [
      "-2.239853262691172\n",
      "-2.239853262691172\n"
     ]
    },
    {
     "data": {
      "text/plain": [
       "array([0, 0, 0, 0, 0, 0, 0, 0, 0, 0, 0, 0, 0, 0, 0, 0, 0, 0, 0, 0, 0, 0,\n",
       "       0, 0, 0, 0, 0, 0, 0, 0, 0, 0, 0, 0, 0, 0, 0, 0, 0, 0, 0, 0, 0, 0,\n",
       "       0, 0, 0, 0, 0, 0, 0, 0, 0, 0, 0, 0, 0, 0, 0, 0, 0, 0, 0, 0, 0, 0,\n",
       "       0, 0, 0, 0, 0, 0, 0, 0, 0, 0, 0, 0, 0, 0, 0, 0, 0, 0, 0, 0, 0, 0,\n",
       "       0, 0, 0, 0, 0, 0, 0, 0, 0, 0, 0, 0, 0, 0, 0, 0, 0, 0, 0, 0, 0, 0,\n",
       "       0, 0, 0, 0, 0, 0, 0, 0, 0, 0, 0, 0, 0, 0, 0, 0, 0, 0, 0, 0, 0, 0,\n",
       "       0, 0, 0, 0, 0, 0, 0, 0, 0, 0, 0, 0, 0, 0, 0, 0, 0, 0], dtype=int64)"
      ]
     },
     "execution_count": 6,
     "metadata": {},
     "output_type": "execute_result"
    }
   ],
   "source": [
    "from sklearn.datasets import load_iris\n",
    "from sklearn.decomposition import PCA\n",
    "X,y=load_iris(return_X_y=True)\n",
    "X=PCA(n_components=2).fit_transform(X)  \n",
    "gmm=GMM(n_components=3)\n",
    "gmm.fit(X).predict(X)"
   ]
  },
  {
   "cell_type": "code",
   "execution_count": null,
   "metadata": {},
   "outputs": [],
   "source": [
    "means=np.vstack([np.mean(X,axis=0) for i in range(3)])\n",
    "covars=[np.cov(X.T) for i in range(3)]       \n",
    "\n",
    "Gaussian(X,means,covars)"
   ]
  },
  {
   "cell_type": "code",
   "execution_count": null,
   "metadata": {},
   "outputs": [],
   "source": [
    "means"
   ]
  },
  {
   "cell_type": "code",
   "execution_count": null,
   "metadata": {},
   "outputs": [],
   "source": [
    "from scipy.stats import multivariate_normal\n",
    "from sklearn.datasets import load_iris\n",
    "from sklearn.decomposition import PCA\n",
    "X,y=load_iris(return_X_y=True)\n",
    "X=PCA(n_components=3).fit_transform(X) "
   ]
  },
  {
   "cell_type": "code",
   "execution_count": null,
   "metadata": {},
   "outputs": [],
   "source": [
    "multivariate_normal(np.mean(X,axis=0),np.mean(X,axis=0)+0.001).pdf(X)"
   ]
  },
  {
   "cell_type": "code",
   "execution_count": null,
   "metadata": {},
   "outputs": [],
   "source": [
    "c=1\n",
    "for i in range(1,4):\n",
    "    c=c*i\n",
    "c"
   ]
  },
  {
   "cell_type": "code",
   "execution_count": null,
   "metadata": {},
   "outputs": [],
   "source": []
  }
 ],
 "metadata": {
  "kernelspec": {
   "display_name": "Python 3",
   "language": "python",
   "name": "python3"
  },
  "language_info": {
   "codemirror_mode": {
    "name": "ipython",
    "version": 3
   },
   "file_extension": ".py",
   "mimetype": "text/x-python",
   "name": "python",
   "nbconvert_exporter": "python",
   "pygments_lexer": "ipython3",
   "version": "3.6.8"
  }
 },
 "nbformat": 4,
 "nbformat_minor": 2
}
