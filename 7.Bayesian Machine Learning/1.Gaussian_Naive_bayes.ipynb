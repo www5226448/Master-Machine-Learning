{
 "cells": [
  {
   "cell_type": "code",
   "execution_count": 1,
   "metadata": {},
   "outputs": [],
   "source": [
    "from scipy.stats import norm\n",
    "import numpy as np\n",
    "from collections import Counter\n",
    "\n",
    "\n",
    "class GaussianNB:\n",
    "    def __init__(self,priors=None):\n",
    "        self.priors=priors\n",
    "        \n",
    "    def fit(self,X,y):\n",
    "        if self.priors is None:\n",
    "            self.priors=self.get_priors(y)\n",
    "        else:\n",
    "            self.priors={label:proba for label,proba in zip(set(y),self.priors)}\n",
    "        self.groups={label:[] for label in set(y)}\n",
    "        self.labels=list(set(y))\n",
    "        for data,label in zip(X,y):\n",
    "            self.groups[label].append(data)         \n",
    "        self.proba_cal={label:[0,1] for label in set(y)}\n",
    "        for label in set(y):\n",
    "            self.proba_cal[label][0]=np.mean(X[np.where(y==label)],axis=0)\n",
    "            self.proba_cal[label][1]=np.std(X[np.where(y==label)],axis=0)\n",
    "        return self\n",
    "\n",
    "     \n",
    "    def predict(self,X):\n",
    "        m,n=X.shape\n",
    "        log_proba=np.ones((m,len(self.labels)))       \n",
    "        for index,i in enumerate(X):\n",
    "            proba1=np.array([self.cal_likehood_gaussian_prob(i,\n",
    "                            self.proba_cal[label][0],\n",
    "                            self.proba_cal[label][1]) for label in self.labels])\n",
    "            proba1=proba1+np.array([np.log(self.priors[label]) for label in self.labels])    \n",
    "            log_proba[index,:]=proba1\n",
    "        pred=np.argmax(log_proba,axis=1)\n",
    "        return pred\n",
    "    \n",
    "    @staticmethod\n",
    "    def get_priors(y):\n",
    "        m=len(y)\n",
    "        priors={label:pro/m for label,pro in Counter(y).items()}\n",
    "        return priors\n",
    "    \n",
    "\n",
    "    @staticmethod\n",
    "    def cal_likehood_gaussian_prob(data,means,stds):\n",
    "        prob=[norm.pdf(j,means[i],stds[i])  for i,j in enumerate(data)]\n",
    "        prob=np.clip(prob,1e-32,np.inf)\n",
    "        probs=np.log(prob).sum()\n",
    "        return probs    "
   ]
  },
  {
   "cell_type": "code",
   "execution_count": 2,
   "metadata": {},
   "outputs": [],
   "source": [
    "from sklearn.datasets import load_breast_cancer\n",
    "from sklearn.model_selection import train_test_split\n",
    "X,y=load_breast_cancer(return_X_y=True)\n",
    "X_train,X_test,y_train,y_test=train_test_split(X,y,test_size=0.3)"
   ]
  },
  {
   "cell_type": "code",
   "execution_count": 3,
   "metadata": {},
   "outputs": [],
   "source": [
    "nb=GaussianNB(priors=[0.4,0.6]).fit(X_train,y_train)"
   ]
  },
  {
   "cell_type": "code",
   "execution_count": 4,
   "metadata": {},
   "outputs": [
    {
     "data": {
      "text/plain": [
       "0.9122807017543859"
      ]
     },
     "execution_count": 4,
     "metadata": {},
     "output_type": "execute_result"
    }
   ],
   "source": [
    "from sklearn.metrics import accuracy_score\n",
    "accuracy_score(y_test,nb.predict(X_test))"
   ]
  },
  {
   "cell_type": "code",
   "execution_count": null,
   "metadata": {},
   "outputs": [],
   "source": []
  }
 ],
 "metadata": {
  "kernelspec": {
   "display_name": "Python 3",
   "language": "python",
   "name": "python3"
  },
  "language_info": {
   "codemirror_mode": {
    "name": "ipython",
    "version": 3
   },
   "file_extension": ".py",
   "mimetype": "text/x-python",
   "name": "python",
   "nbconvert_exporter": "python",
   "pygments_lexer": "ipython3",
   "version": "3.6.9"
  }
 },
 "nbformat": 4,
 "nbformat_minor": 2
}
