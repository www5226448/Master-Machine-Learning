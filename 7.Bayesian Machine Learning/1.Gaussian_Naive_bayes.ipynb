{
 "cells": [
  {
   "cell_type": "code",
   "execution_count": 1,
   "metadata": {},
   "outputs": [],
   "source": [
    "from scipy.stats import norm\n",
    "import numpy as np\n",
    "from collections import Counter\n",
    "\n",
    "\n",
    "class GaussianNB:\n",
    "    def __init__(self,priors=None):\n",
    "        self.priors=priors\n",
    "        \n",
    "    def fit(self,X,y):\n",
    "        self.labels=list(set(y))\n",
    "        \n",
    "        if self.priors is None:\n",
    "            self.priors=self.get_priors(y)\n",
    "        else:\n",
    "            self.priors={label:proba for label,proba in zip(self.labels,self.priors)}\n",
    "              \n",
    "        self.proba_cal={label:[0,1] for label in self.labels}\n",
    "        for label in self.labels:\n",
    "            self.proba_cal[label][0]=np.mean(X[np.where(y==label)],axis=0)\n",
    "            self.proba_cal[label][1]=np.std(X[np.where(y==label)],axis=0)\n",
    "            \n",
    "        return self\n",
    "\n",
    "    def predict_proba(self,X):\n",
    "        m,n=X.shape\n",
    "        proba=np.ones((m,len(self.labels)))       \n",
    "        for index,i in enumerate(X):\n",
    "            proba1=np.array([self.cal_likehood_gaussian_prob(i,\n",
    "                            self.proba_cal[label][0],\n",
    "                            self.proba_cal[label][1]) for label in self.labels])\n",
    "    \n",
    "            proba1=proba1+np.array([np.log(self.priors[label]) for label in self.labels])\n",
    "            proba[index,:]=proba1\n",
    "        proba=np.exp(proba)/np.exp(proba).sum(axis=1)[:,np.newaxis]\n",
    "        return np.round(proba,3)\n",
    "    \n",
    "    def predict(self,X):\n",
    "        log_proba=self.predict_proba(X)\n",
    "        pred=np.argmax(log_proba,axis=1)\n",
    "        return pred\n",
    "        \n",
    "    \n",
    "    @staticmethod\n",
    "    def get_priors(y):\n",
    "        m=len(y)\n",
    "        priors={label:counts/m for label,counts in Counter(y).items()}\n",
    "        return priors\n",
    "    \n",
    "\n",
    "    @staticmethod\n",
    "    def cal_likehood_gaussian_prob(data,means,stds):\n",
    "        prob=[norm.pdf(j,means[i],stds[i])  for i,j in enumerate(data)]\n",
    "        prob=np.clip(prob,1e-16,np.inf)\n",
    "        probs=np.log(prob).sum()\n",
    "        return probs    "
   ]
  },
  {
   "cell_type": "code",
   "execution_count": 2,
   "metadata": {},
   "outputs": [],
   "source": [
    "from sklearn.datasets import load_iris\n",
    "from sklearn.model_selection import train_test_split\n",
    "X,y=load_iris(return_X_y=True)\n",
    "X_train,X_test,y_train,y_test=train_test_split(X,y,test_size=0.3)"
   ]
  },
  {
   "cell_type": "code",
   "execution_count": 3,
   "metadata": {},
   "outputs": [
    {
     "data": {
      "text/plain": [
       "array([[0.   , 0.   , 1.   ],\n",
       "       [0.   , 1.   , 0.   ],\n",
       "       [0.   , 1.   , 0.   ],\n",
       "       [0.   , 0.281, 0.719],\n",
       "       [1.   , 0.   , 0.   ],\n",
       "       [0.   , 0.853, 0.147],\n",
       "       [0.   , 0.731, 0.269],\n",
       "       [0.   , 0.   , 1.   ],\n",
       "       [0.   , 1.   , 0.   ],\n",
       "       [0.   , 0.989, 0.011],\n",
       "       [0.   , 0.   , 1.   ],\n",
       "       [0.   , 0.987, 0.013],\n",
       "       [1.   , 0.   , 0.   ],\n",
       "       [1.   , 0.   , 0.   ],\n",
       "       [0.   , 0.198, 0.802],\n",
       "       [0.   , 0.   , 1.   ],\n",
       "       [1.   , 0.   , 0.   ],\n",
       "       [0.   , 0.   , 1.   ],\n",
       "       [1.   , 0.   , 0.   ],\n",
       "       [1.   , 0.   , 0.   ],\n",
       "       [0.   , 1.   , 0.   ],\n",
       "       [1.   , 0.   , 0.   ],\n",
       "       [1.   , 0.   , 0.   ],\n",
       "       [0.   , 0.   , 1.   ],\n",
       "       [0.   , 0.001, 0.999],\n",
       "       [0.   , 0.99 , 0.01 ],\n",
       "       [1.   , 0.   , 0.   ],\n",
       "       [0.   , 0.   , 1.   ],\n",
       "       [0.   , 0.   , 1.   ],\n",
       "       [0.   , 0.047, 0.953],\n",
       "       [0.   , 0.989, 0.011],\n",
       "       [0.   , 0.   , 1.   ],\n",
       "       [0.   , 0.141, 0.859],\n",
       "       [0.   , 0.988, 0.012],\n",
       "       [1.   , 0.   , 0.   ],\n",
       "       [0.   , 0.001, 0.999],\n",
       "       [1.   , 0.   , 0.   ],\n",
       "       [0.   , 0.999, 0.001],\n",
       "       [0.   , 0.021, 0.979],\n",
       "       [1.   , 0.   , 0.   ],\n",
       "       [0.   , 0.   , 1.   ],\n",
       "       [0.   , 1.   , 0.   ],\n",
       "       [1.   , 0.   , 0.   ],\n",
       "       [0.   , 0.636, 0.364],\n",
       "       [1.   , 0.   , 0.   ]])"
      ]
     },
     "execution_count": 3,
     "metadata": {},
     "output_type": "execute_result"
    }
   ],
   "source": [
    "nb=GaussianNB().fit(X_train,y_train)\n",
    "nb.predict_proba(X_test)"
   ]
  },
  {
   "cell_type": "code",
   "execution_count": 4,
   "metadata": {},
   "outputs": [
    {
     "data": {
      "text/plain": [
       "array([[0.   , 0.   , 1.   ],\n",
       "       [0.   , 1.   , 0.   ],\n",
       "       [0.   , 1.   , 0.   ],\n",
       "       [0.   , 0.281, 0.719],\n",
       "       [1.   , 0.   , 0.   ],\n",
       "       [0.   , 0.853, 0.147],\n",
       "       [0.   , 0.731, 0.269],\n",
       "       [0.   , 0.   , 1.   ],\n",
       "       [0.   , 1.   , 0.   ],\n",
       "       [0.   , 0.989, 0.011],\n",
       "       [0.   , 0.   , 1.   ],\n",
       "       [0.   , 0.987, 0.013],\n",
       "       [1.   , 0.   , 0.   ],\n",
       "       [1.   , 0.   , 0.   ],\n",
       "       [0.   , 0.198, 0.802],\n",
       "       [0.   , 0.   , 1.   ],\n",
       "       [1.   , 0.   , 0.   ],\n",
       "       [0.   , 0.   , 1.   ],\n",
       "       [1.   , 0.   , 0.   ],\n",
       "       [1.   , 0.   , 0.   ],\n",
       "       [0.   , 1.   , 0.   ],\n",
       "       [1.   , 0.   , 0.   ],\n",
       "       [1.   , 0.   , 0.   ],\n",
       "       [0.   , 0.   , 1.   ],\n",
       "       [0.   , 0.001, 0.999],\n",
       "       [0.   , 0.99 , 0.01 ],\n",
       "       [1.   , 0.   , 0.   ],\n",
       "       [0.   , 0.   , 1.   ],\n",
       "       [0.   , 0.   , 1.   ],\n",
       "       [0.   , 0.047, 0.953],\n",
       "       [0.   , 0.989, 0.011],\n",
       "       [0.   , 0.   , 1.   ],\n",
       "       [0.   , 0.141, 0.859],\n",
       "       [0.   , 0.988, 0.012],\n",
       "       [1.   , 0.   , 0.   ],\n",
       "       [0.   , 0.001, 0.999],\n",
       "       [1.   , 0.   , 0.   ],\n",
       "       [0.   , 0.999, 0.001],\n",
       "       [0.   , 0.021, 0.979],\n",
       "       [1.   , 0.   , 0.   ],\n",
       "       [0.   , 0.   , 1.   ],\n",
       "       [0.   , 1.   , 0.   ],\n",
       "       [1.   , 0.   , 0.   ],\n",
       "       [0.   , 0.636, 0.364],\n",
       "       [1.   , 0.   , 0.   ]])"
      ]
     },
     "execution_count": 4,
     "metadata": {},
     "output_type": "execute_result"
    }
   ],
   "source": [
    "from sklearn.naive_bayes import GaussianNB as Sk_gnb\n",
    "sk_nb=Sk_gnb().fit(X_train,y_train)\n",
    "np.round(sk_nb.predict_proba(X_test),3)"
   ]
  },
  {
   "cell_type": "code",
   "execution_count": null,
   "metadata": {},
   "outputs": [],
   "source": []
  }
 ],
 "metadata": {
  "kernelspec": {
   "display_name": "Python 3",
   "language": "python",
   "name": "python3"
  },
  "language_info": {
   "codemirror_mode": {
    "name": "ipython",
    "version": 3
   },
   "file_extension": ".py",
   "mimetype": "text/x-python",
   "name": "python",
   "nbconvert_exporter": "python",
   "pygments_lexer": "ipython3",
   "version": "3.6.9"
  }
 },
 "nbformat": 4,
 "nbformat_minor": 2
}
