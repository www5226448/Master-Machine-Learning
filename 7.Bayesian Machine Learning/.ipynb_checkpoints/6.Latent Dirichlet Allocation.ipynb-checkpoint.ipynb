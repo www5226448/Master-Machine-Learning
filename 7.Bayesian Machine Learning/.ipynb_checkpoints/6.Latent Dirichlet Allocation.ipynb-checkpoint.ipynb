{
 "cells": [
  {
   "cell_type": "code",
   "execution_count": 1,
   "metadata": {},
   "outputs": [],
   "source": [
    "import numpy as np\n",
    "import pandas as pd\n",
    "import re\n",
    "df = pd.read_csv('HillaryEmails.csv')\n",
    "df = df[['Id','ExtractedBodyText']].dropna()"
   ]
  },
  {
   "cell_type": "code",
   "execution_count": 2,
   "metadata": {},
   "outputs": [],
   "source": [
    "def clean_email_text(text):\n",
    "    text = text.replace('\\n',\" \") \n",
    "    text = re.sub(r\"-\", \" \", text)\n",
    "    text = re.sub(r\"\\d+/\\d+/\\d+\", \"\", text) \n",
    "    text = re.sub(r\"[0-2]?[0-9]:[0-6][0-9]\", \"\", text) \n",
    "    text = re.sub(r\"[\\w]+@[\\.\\w]+\", \"\", text) \n",
    "    text = re.sub(r\"/[a-zA-Z]*[:\\//\\]*[A-Za-z0-9\\-_]+\\.+[A-Za-z0-9\\.\\/%&=\\?\\-_]+/i\", \"\", text) \n",
    "    pure_text = ''\n",
    "    \n",
    "    for letter in text:\n",
    "     \n",
    "        if letter.isalpha() or letter==' ':\n",
    "            pure_text += letter\n",
    "  \n",
    "    text = ' '.join(word for word in pure_text.split() if len(word)>1)\n",
    "    return text"
   ]
  },
  {
   "cell_type": "code",
   "execution_count": 3,
   "metadata": {},
   "outputs": [
    {
     "data": {
      "text/plain": [
       "array(['Thursday March PM Latest How Syria is aiding Qaddafi and more Sid hrc memo syria aiding libya docx hrc memo syria aiding libya docx March For Hillary'],\n",
       "      dtype=object)"
      ]
     },
     "execution_count": 3,
     "metadata": {},
     "output_type": "execute_result"
    }
   ],
   "source": [
    "docs = df['ExtractedBodyText']\n",
    "docs = docs.apply(lambda s: clean_email_text(s))  \n",
    "docs.head(1).values"
   ]
  },
  {
   "cell_type": "code",
   "execution_count": 4,
   "metadata": {},
   "outputs": [
    {
     "data": {
      "text/plain": [
       "array(['Thursday March PM Latest How Syria is aiding Qaddafi and more Sid hrc memo syria aiding libya docx hrc memo syria aiding libya docx March For Hillary',\n",
       "       'Thx',\n",
       "       'Friday March PM Huma Abedin Fw Latest How Syria is aiding Qaddafi and more Sid hrc memo syria aiding libya docx Pis print',\n",
       "       ...,\n",
       "       'Big change of plans in the Senate Senator Reid just announced that he was no longer going to move forward with the omnibus appropriations bill Instead he filed cloture motions on the repeal of Dont Ask Dont Tell and the DREAM Act Those petitions will ripen on Saturday So it looks like the Senate will be again considering the new START Treaty tomorrow We should know the starting time shortly',\n",
       "       'PVerveer Friday December AM From Please let me know if can be of any help to your department and will happy to do and please thank Mrs Hillary Clinton on behalf of me and supporting Afghan women Thank you',\n",
       "       'See below'], dtype=object)"
      ]
     },
     "execution_count": 4,
     "metadata": {},
     "output_type": "execute_result"
    }
   ],
   "source": [
    "doclist = docs.values\n",
    "doclist"
   ]
  },
  {
   "cell_type": "code",
   "execution_count": 5,
   "metadata": {},
   "outputs": [
    {
     "data": {
      "text/plain": [
       "['thursday',\n",
       " 'march',\n",
       " 'pm',\n",
       " 'latest',\n",
       " 'syria',\n",
       " 'aiding',\n",
       " 'qaddafi',\n",
       " 'sid',\n",
       " 'hrc',\n",
       " 'memo',\n",
       " 'syria',\n",
       " 'aiding',\n",
       " 'libya',\n",
       " 'docx',\n",
       " 'hrc',\n",
       " 'memo',\n",
       " 'syria',\n",
       " 'aiding',\n",
       " 'libya',\n",
       " 'docx',\n",
       " 'march',\n",
       " 'hillary']"
      ]
     },
     "execution_count": 5,
     "metadata": {},
     "output_type": "execute_result"
    }
   ],
   "source": [
    "from gensim import corpora, models, similarities\n",
    "import gensim\n",
    "stoplist = ['very', 'ourselves', 'am', 'doesn', 'through', 'me', 'against', 'up', 'just', 'her', 'ours', \n",
    "            'couldn', 'because', 'is', 'isn', 'it', 'only', 'in', 'such', 'too', 'mustn', 'under', 'their', \n",
    "            'if', 'to', 'my', 'himself', 'after', 'why', 'while', 'can', 'each', 'itself', 'his', 'all', 'once', \n",
    "            'herself', 'more', 'our', 'they', 'hasn', 'on', 'ma', 'them', 'its', 'where', 'did', 'll', 'you', \n",
    "            'didn', 'nor', 'as', 'now', 'before', 'those', 'yours', 'from', 'who', 'was', 'm', 'been', 'will', \n",
    "            'into', 'same', 'how', 'some', 'of', 'out', 'with', 's', 'being', 't', 'mightn', 'she', 'again', 'be', \n",
    "            'by', 'shan', 'have', 'yourselves', 'needn', 'and', 'are', 'o', 'these', 'further', 'most', 'yourself', \n",
    "            'having', 'aren', 'here', 'he', 'were', 'but', 'this', 'myself', 'own', 'we', 'so', 'i', 'does', 'both', \n",
    "            'when', 'between', 'd', 'had', 'the', 'y', 'has', 'down', 'off', 'than', 'haven', 'whom', 'wouldn', \n",
    "            'should', 've', 'over', 'themselves', 'few', 'then', 'hadn', 'what', 'until', 'won', 'no', 'about', \n",
    "            'any', 'that', 'for', 'shouldn', 'don', 'do', 'there', 'doing', 'an', 'or', 'ain', 'hers', 'wasn', \n",
    "            'weren', 'above', 'a', 'at', 'your', 'theirs', 'below', 'other', 'not', 're', 'him', 'during', 'which']\n",
    "texts = [[word for word in doc.lower().split() if word not in stoplist] for doc in doclist]\n",
    "\n",
    "texts[0]"
   ]
  },
  {
   "cell_type": "code",
   "execution_count": 6,
   "metadata": {},
   "outputs": [],
   "source": [
    "dictionary = corpora.Dictionary(texts)\n",
    "corpus = [dictionary.doc2bow(text) for text in texts]"
   ]
  },
  {
   "cell_type": "code",
   "execution_count": 7,
   "metadata": {},
   "outputs": [
    {
     "data": {
      "text/plain": [
       "[(51, 1), (505, 1), (506, 1), (507, 1), (508, 1)]"
      ]
     },
     "execution_count": 7,
     "metadata": {},
     "output_type": "execute_result"
    }
   ],
   "source": [
    "corpus[13]"
   ]
  },
  {
   "cell_type": "code",
   "execution_count": 19,
   "metadata": {},
   "outputs": [
    {
     "data": {
      "text/plain": [
       "'0.012*\"call\" + 0.009*\"senate\" + 0.007*\"pm\" + 0.006*\"time\" + 0.006*\"pis\"'"
      ]
     },
     "execution_count": 19,
     "metadata": {},
     "output_type": "execute_result"
    }
   ],
   "source": [
    "lda = gensim.models.ldamodel.LdaModel(corpus=corpus, id2word=dictionary, num_topics=10)\n",
    "#第5号分类，其中最常出现的单词是：\n",
    "lda.print_topic(5, topn=5)"
   ]
  },
  {
   "cell_type": "code",
   "execution_count": 20,
   "metadata": {},
   "outputs": [
    {
     "data": {
      "text/plain": [
       "[(0,\n",
       "  '0.031*\"ok\" + 0.014*\"know\" + 0.012*\"thx\" + 0.007*\"let\" + 0.006*\"germany\"'),\n",
       " (1,\n",
       "  '0.020*\"call\" + 0.013*\"see\" + 0.011*\"release\" + 0.011*\"pm\" + 0.010*\"part\"'),\n",
       " (2,\n",
       "  '0.009*\"us\" + 0.007*\"one\" + 0.006*\"state\" + 0.006*\"american\" + 0.006*\"would\"'),\n",
       " (3,\n",
       "  '0.007*\"pls\" + 0.006*\"get\" + 0.005*\"also\" + 0.005*\"would\" + 0.005*\"work\"'),\n",
       " (4,\n",
       "  '0.072*\"pm\" + 0.035*\"office\" + 0.030*\"secretarys\" + 0.023*\"fyi\" + 0.020*\"meeting\"'),\n",
       " (5,\n",
       "  '0.012*\"call\" + 0.009*\"senate\" + 0.007*\"pm\" + 0.006*\"time\" + 0.006*\"pis\"'),\n",
       " (6, '0.008*\"us\" + 0.007*\"new\" + 0.005*\"said\" + 0.005*\"un\" + 0.005*\"people\"'),\n",
       " (7, '0.007*\"mr\" + 0.006*\"new\" + 0.006*\"would\" + 0.004*\"one\" + 0.004*\"time\"'),\n",
       " (8,\n",
       "  '0.012*\"pm\" + 0.008*\"party\" + 0.006*\"us\" + 0.005*\"would\" + 0.005*\"sunday\"'),\n",
       " (9,\n",
       "  '0.010*\"would\" + 0.009*\"obama\" + 0.008*\"percent\" + 0.007*\"president\" + 0.006*\"said\"')]"
      ]
     },
     "execution_count": 20,
     "metadata": {},
     "output_type": "execute_result"
    }
   ],
   "source": [
    "#Print all topics and return to the topic's high-frequency vocabulary\n",
    "lda.print_topics(num_words=5)"
   ]
  }
 ],
 "metadata": {
  "kernelspec": {
   "display_name": "Python 3",
   "language": "python",
   "name": "python3"
  },
  "language_info": {
   "codemirror_mode": {
    "name": "ipython",
    "version": 3
   },
   "file_extension": ".py",
   "mimetype": "text/x-python",
   "name": "python",
   "nbconvert_exporter": "python",
   "pygments_lexer": "ipython3",
   "version": "3.6.8"
  }
 },
 "nbformat": 4,
 "nbformat_minor": 1
}
