{
 "cells": [
  {
   "cell_type": "code",
   "execution_count": 1,
   "metadata": {},
   "outputs": [],
   "source": [
    "import numpy as np\n",
    "from sklearn.datasets import load_boston\n",
    "from sklearn.model_selection import train_test_split\n",
    "from sklearn.metrics import mean_squared_error\n",
    "from scipy.optimize import minimize\n",
    "from sklearn.preprocessing import StandardScaler\n",
    "X,y=load_boston().data,load_boston().target\n",
    "X=StandardScaler().fit_transform(X)\n",
    "X_train,X_test,y_train,y_test=train_test_split(X,y,test_size=0.3)"
   ]
  },
  {
   "cell_type": "code",
   "execution_count": 2,
   "metadata": {
    "scrolled": true
   },
   "outputs": [
    {
     "name": "stdout",
     "output_type": "stream",
     "text": [
      "[-0.95067553  0.77865596  0.33386074  0.68007732 -2.20995851  2.19779709\n",
      "  0.14126457 -3.17439777  2.76338814 -2.09787129 -2.31793912  0.84712338\n",
      " -4.26556037]\n",
      "22.499783300094986\n"
     ]
    }
   ],
   "source": [
    "from sklearn.linear_model import LinearRegression as sklearn_lr\n",
    "model=sklearn_lr().fit(X_train,y_train)\n",
    "print(model.coef_)\n",
    "print(model.intercept_)"
   ]
  },
  {
   "cell_type": "code",
   "execution_count": 3,
   "metadata": {},
   "outputs": [
    {
     "data": {
      "text/plain": [
       "array([14.19082571, 25.63732038, 16.85400401, 26.04313245,  7.6344224 ,\n",
       "       34.83371287, 15.45155184, 13.18896974, 12.92552014, 25.68108328])"
      ]
     },
     "execution_count": 3,
     "metadata": {},
     "output_type": "execute_result"
    }
   ],
   "source": [
    "model.predict(X_test)[:10]"
   ]
  },
  {
   "cell_type": "markdown",
   "metadata": {},
   "source": [
    "### 1.使用Scipy optimize求解线性回归"
   ]
  },
  {
   "cell_type": "code",
   "execution_count": 4,
   "metadata": {},
   "outputs": [
    {
     "name": "stdout",
     "output_type": "stream",
     "text": [
      "The unconstrained solution is optimal.\n",
      "Final cost 4.3378e+03, first-order optimality 2.46e-11\n"
     ]
    },
    {
     "data": {
      "text/plain": [
       "array([14.19082571, 25.63732038, 16.85400401, 26.04313245,  7.6344224 ])"
      ]
     },
     "execution_count": 4,
     "metadata": {},
     "output_type": "execute_result"
    }
   ],
   "source": [
    "from scipy.optimize import lsq_linear\n",
    "class LinearRegression:\n",
    "    def fit(self,X,y):\n",
    "        _,n=np.shape(X)\n",
    "        X=np.insert(X,n,1,axis=1)          #将X新增一列为1的列向量\n",
    "        A = X\n",
    "        b = y\n",
    "        res = lsq_linear(A, b, lsmr_tol='auto', verbose=1)\n",
    "        self.coef_=res.x[:-1]\n",
    "        self.intercept_=res.x[-1]\n",
    "        self.res=res\n",
    "        return self\n",
    "    def predict(self,X):\n",
    "        return np.array(X@self.coef_.reshape(-1,1)+self.intercept_).flatten()\n",
    "           \n",
    "model=LinearRegression().fit(X_train,y_train)\n",
    "model.predict(X_test)[:5]"
   ]
  },
  {
   "cell_type": "markdown",
   "metadata": {},
   "source": [
    "### 3.使用Scipy求解带L2正则化的线性回归"
   ]
  },
  {
   "cell_type": "code",
   "execution_count": 5,
   "metadata": {},
   "outputs": [
    {
     "data": {
      "text/plain": [
       "array([14.19925808, 25.63927898, 16.86056162, 26.04671838,  7.64163316,\n",
       "       34.82899029, 15.46182849, 13.20513171, 12.93581374, 25.68608924])"
      ]
     },
     "execution_count": 5,
     "metadata": {},
     "output_type": "execute_result"
    }
   ],
   "source": [
    "class Ridge:\n",
    "    def __init__(self,c=0.0001):\n",
    "        self.c=c\n",
    "    def fit(self,X,y):\n",
    "        init_w=np.random.randn(X.shape[1]+1)\n",
    "        res=minimize(type(self).loss,init_w,args=(X,y))\n",
    "        self.coef_=res.x[:-1]\n",
    "        self.intercept_=res.x[-1]\n",
    "        return self\n",
    "    def predict(self,X):\n",
    "        pred=X@self.coef_.T+self.intercept_\n",
    "        regularization=self.c*self.coef_.T@self.coef_\n",
    "        return pred+regularization\n",
    "    \n",
    "    def loss(w,X,y,c=0.1):\n",
    "        _,n=np.shape(X)\n",
    "        X=np.insert(X,n,1,axis=1)          #将X新增一列为1的列向量                                                 \n",
    "        loss=np.square(y-X@w).sum()+c*np.square(w[:-1]).sum()    #minmize ||y - Xw||^2_2 + alpha * ||w||^2_2\n",
    "        return loss\n",
    "model=Ridge().fit(X_train,y_train)\n",
    "pre=model.predict(X_test)\n",
    "pre[:10]"
   ]
  },
  {
   "cell_type": "code",
   "execution_count": 6,
   "metadata": {},
   "outputs": [
    {
     "data": {
      "text/plain": [
       "array([14.19082835, 25.63731652, 16.85400476, 26.04313022,  7.6344238 ,\n",
       "       34.83370231, 15.45155632, 13.18898012, 12.92552464, 25.68108248])"
      ]
     },
     "execution_count": 6,
     "metadata": {},
     "output_type": "execute_result"
    }
   ],
   "source": [
    "from sklearn.linear_model import Ridge as sklearn_Ridge\n",
    "model=sklearn_Ridge(alpha=0.0001).fit(X_train,y_train)\n",
    "pre2=model.predict(X_test)\n",
    "pre2[:10]"
   ]
  },
  {
   "cell_type": "markdown",
   "metadata": {},
   "source": [
    "### 3.使用梯度下降法求解线性回归"
   ]
  },
  {
   "cell_type": "code",
   "execution_count": 7,
   "metadata": {},
   "outputs": [],
   "source": [
    "import matplotlib.pyplot as plt\n",
    "plt.style.use('ggplot')\n",
    "%matplotlib inline\n",
    "class LinearRegression:\n",
    "    def __init__(self,learning_rate=0.03,max_iters=50):\n",
    "        self.learning_rate=learning_rate\n",
    "        self.max_iters=max_iters\n",
    "        self.grads=[]\n",
    "    def fit(self,X,y):\n",
    "        m,n=np.shape(X)\n",
    "        X=np.insert(X,n,1,axis=1)          #将X新增一列为1的列向量\n",
    "        W=np.random.randn(X.shape[1])\n",
    "        loss_series=[]\n",
    "        for i in range(self.max_iters):\n",
    "            error=X@W.T-y\n",
    "            grad=(2*X.T@error)/m\n",
    "            self.grads.append(grad)\n",
    "            W=W-self.learning_rate*grad  #更新权重\n",
    "            current_loss=np.square(error).sum()/m\n",
    "            loss_series.append(current_loss)\n",
    "        plt.plot(range(self.max_iters),loss_series,color='blue')\n",
    "        plt.xlabel('The number of iterations')\n",
    "        plt.ylabel('The mean square error')\n",
    "        self.W=W\n",
    "        self.coef_=W[:-1]\n",
    "        self.intercept=W[:-1]\n",
    "        \n",
    "        return self\n",
    "    def predict(self,X):\n",
    "        X_=np.full(shape=(X.shape[0],1),fill_value=1)\n",
    "        X=np.concatenate([X,X_],axis=1)\n",
    "        pre=X@self.W.T\n",
    "        return pre"
   ]
  },
  {
   "cell_type": "code",
   "execution_count": 8,
   "metadata": {},
   "outputs": [
    {
     "data": {
      "text/plain": [
       "17.193684663673054"
      ]
     },
     "execution_count": 8,
     "metadata": {},
     "output_type": "execute_result"
    },
    {
     "data": {
      "image/png": "[encoded data removed]",
      "text/plain": [
       "<Figure size 432x288 with 1 Axes>"
      ]
     },
     "metadata": {
      "needs_background": "light"
     },
     "output_type": "display_data"
    }
   ],
   "source": [
    "lr=LinearRegression(learning_rate=0.1).fit(X_train,y_train)\n",
    "mean_squared_error(y_test,lr.predict(X_test))"
   ]
  },
  {
   "cell_type": "markdown",
   "metadata": {},
   "source": [
    "### 4.使用随机梯度下降法"
   ]
  },
  {
   "cell_type": "code",
   "execution_count": 11,
   "metadata": {},
   "outputs": [],
   "source": [
    "class LinearRegression:\n",
    "    def __init__(self,learning_rate=0.03,max_iters=100):\n",
    "        self.learning_rate=learning_rate\n",
    "        self.max_iters=max_iters\n",
    "    def fit(self,X,y):\n",
    "        m,n=np.shape(X)\n",
    "        X=np.insert(X,n,1,axis=1)          #将X新增一列为1的列向量\n",
    "        W=np.random.randn(X.shape[1])\n",
    "        loss_series=[]\n",
    "        for i in range(self.max_iters):\n",
    "            dataIndex=list(range(m))\n",
    "            for j in range(m):\n",
    "                alpha = 4/(1.0+j+i)+0.001   \n",
    "                randIndex = int(np.random.uniform(0,len(dataIndex)))  #随机挑选一个样本进行迭代                       \n",
    "                error=X[randIndex]@W.T-y[randIndex]\n",
    "                grad=(X[randIndex].T*error)/m\n",
    "                W=W-self.learning_rate*grad  #更新权重\n",
    "                del (dataIndex[randIndex])\n",
    "            current_loss=np.square(error).sum()/m\n",
    "            loss_series.append(current_loss)\n",
    "        plt.plot(range(self.max_iters),loss_series,color='blue')\n",
    "        plt.xlabel('The number of iterations')\n",
    "        plt.ylabel('The mean square error')\n",
    "        self.W=W\n",
    "        self.coef_=W[:-1]\n",
    "        self.intercept=W[:-1]\n",
    "        \n",
    "        return self\n",
    "    def predict(self,X):\n",
    "        X_=np.full(shape=(X.shape[0],1),fill_value=1)\n",
    "        X=np.concatenate([X,X_],axis=1)\n",
    "        pre=X@self.W.T\n",
    "        return pre"
   ]
  },
  {
   "cell_type": "code",
   "execution_count": 12,
   "metadata": {},
   "outputs": [
    {
     "data": {
      "text/plain": [
       "17.47069973309322"
      ]
     },
     "execution_count": 12,
     "metadata": {},
     "output_type": "execute_result"
    },
    {
     "data": {
      "image/png": "[encoded data removed]",
      "text/plain": [
       "<Figure size 432x288 with 1 Axes>"
      ]
     },
     "metadata": {
      "needs_background": "light"
     },
     "output_type": "display_data"
    }
   ],
   "source": [
    "lr=LinearRegression(learning_rate=0.1).fit(X_train,y_train)\n",
    "mean_squared_error(y_test,lr.predict(X_test))"
   ]
  }
 ],
 "metadata": {
  "kernelspec": {
   "display_name": "Python 3",
   "language": "python",
   "name": "python3"
  },
  "language_info": {
   "codemirror_mode": {
    "name": "ipython",
    "version": 3
   },
   "file_extension": ".py",
   "mimetype": "text/x-python",
   "name": "python",
   "nbconvert_exporter": "python",
   "pygments_lexer": "ipython3",
   "version": "3.6.9"
  }
 },
 "nbformat": 4,
 "nbformat_minor": 2
}
