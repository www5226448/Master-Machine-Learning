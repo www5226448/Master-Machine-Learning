{
 "cells": [
  {
   "cell_type": "code",
   "execution_count": 1,
   "metadata": {},
   "outputs": [],
   "source": [
    "import numpy as np\n",
    "from sklearn.datasets import load_boston\n",
    "from sklearn.model_selection import train_test_split\n",
    "from sklearn.metrics import mean_squared_error\n",
    "from scipy.optimize import minimize\n",
    "from sklearn.preprocessing import StandardScaler\n",
    "X,y=load_boston().data,load_boston().target\n",
    "X=StandardScaler().fit_transform(X)\n",
    "X_train,X_test,y_train,y_test=train_test_split(X,y,test_size=0.3)"
   ]
  },
  {
   "cell_type": "code",
   "execution_count": 2,
   "metadata": {
    "scrolled": true
   },
   "outputs": [
    {
     "name": "stdout",
     "output_type": "stream",
     "text": [
      "[-1.21542414  1.39149189  0.40566574  0.86914052 -2.22073677  1.89749647\n",
      "  0.38360735 -3.39653212  2.72719218 -2.27558269 -1.87914371  0.75568354\n",
      " -4.32719709]\n",
      "22.435045243106593\n"
     ]
    }
   ],
   "source": [
    "from sklearn.linear_model import LinearRegression as sklearn_lr\n",
    "model=sklearn_lr().fit(X_train,y_train)\n",
    "print(model.coef_)\n",
    "print(model.intercept_)"
   ]
  },
  {
   "cell_type": "code",
   "execution_count": 3,
   "metadata": {},
   "outputs": [
    {
     "data": {
      "text/plain": [
       "array([25.14601856, 12.33319877, 30.71361186, 26.22317309, 35.70077447,\n",
       "       21.53976546, 13.05206972, 23.71354513, 24.16945786,  9.9221415 ])"
      ]
     },
     "execution_count": 3,
     "metadata": {},
     "output_type": "execute_result"
    }
   ],
   "source": [
    "model.predict(X_test)[:10]"
   ]
  },
  {
   "cell_type": "markdown",
   "metadata": {},
   "source": [
    "### 1.使用Scipy optimize求解线性回归"
   ]
  },
  {
   "cell_type": "code",
   "execution_count": 4,
   "metadata": {},
   "outputs": [
    {
     "name": "stdout",
     "output_type": "stream",
     "text": [
      "The unconstrained solution is optimal.\n",
      "Final cost 4.0332e+03, first-order optimality 2.80e-12\n"
     ]
    },
    {
     "data": {
      "text/plain": [
       "array([25.14601856, 12.33319877, 30.71361186, 26.22317309, 35.70077447])"
      ]
     },
     "execution_count": 4,
     "metadata": {},
     "output_type": "execute_result"
    }
   ],
   "source": [
    "from scipy.optimize import lsq_linear\n",
    "class LinearRegression:\n",
    "    def fit(self,X,y):\n",
    "        _,n=np.shape(X)\n",
    "        X=np.insert(X,n,1,axis=1)          \n",
    "        A = X\n",
    "        b = y\n",
    "        res = lsq_linear(A, b, lsmr_tol='auto', verbose=1)\n",
    "        self.coef_=res.x[:-1]\n",
    "        self.intercept_=res.x[-1]\n",
    "        self.res=res\n",
    "        return self\n",
    "    def predict(self,X):\n",
    "        return np.array(X@self.coef_.reshape(-1,1)+self.intercept_).flatten()\n",
    "           \n",
    "model=LinearRegression().fit(X_train,y_train)\n",
    "model.predict(X_test)[:5]"
   ]
  },
  {
   "cell_type": "markdown",
   "metadata": {},
   "source": [
    "### 3.使用Scipy求解带L2正则化的线性回归"
   ]
  },
  {
   "cell_type": "code",
   "execution_count": 5,
   "metadata": {},
   "outputs": [
    {
     "data": {
      "text/plain": [
       "array([25.14928477, 12.32855732, 30.70902042, 26.22042231, 35.69482334,\n",
       "       21.5348613 , 13.05112962, 23.71089212, 24.16714347,  9.92352321])"
      ]
     },
     "execution_count": 5,
     "metadata": {},
     "output_type": "execute_result"
    }
   ],
   "source": [
    "class Ridge:\n",
    "    def __init__(self,c=0.0001):\n",
    "        self.c=c\n",
    "    def fit(self,X,y):\n",
    "        init_w=np.random.randn(X.shape[1]+1)\n",
    "        res=minimize(type(self).loss,init_w,args=(X,y))\n",
    "        self.coef_=res.x[:-1]\n",
    "        self.intercept_=res.x[-1]\n",
    "        return self\n",
    "    def predict(self,X):\n",
    "        pred=X@self.coef_.T+self.intercept_\n",
    "        return pred\n",
    "    \n",
    "    def loss(w,X,y,c=0.1):\n",
    "        _,n=np.shape(X)\n",
    "        X=np.insert(X,n,1,axis=1)                                                 \n",
    "        loss=np.square(y-X@w).sum()+c*np.square(w[:-1]).sum()    #minmize ||y - Xw||^2_2 + alpha * ||w||^2_2\n",
    "        return loss\n",
    "model=Ridge().fit(X_train,y_train)\n",
    "pre=model.predict(X_test)\n",
    "pre[:10]"
   ]
  },
  {
   "cell_type": "code",
   "execution_count": 6,
   "metadata": {},
   "outputs": [
    {
     "data": {
      "text/plain": [
       "array([25.14602183, 12.33319412, 30.71360725, 26.22317032, 35.70076851,\n",
       "       21.53976054, 13.05206877, 23.71354247, 24.16945554,  9.92214288])"
      ]
     },
     "execution_count": 6,
     "metadata": {},
     "output_type": "execute_result"
    }
   ],
   "source": [
    "from sklearn.linear_model import Ridge as sklearn_Ridge\n",
    "model=sklearn_Ridge(alpha=0.0001).fit(X_train,y_train)\n",
    "pre2=model.predict(X_test)\n",
    "pre2[:10]"
   ]
  },
  {
   "cell_type": "markdown",
   "metadata": {},
   "source": [
    "### 3.使用梯度下降法求解线性回归"
   ]
  },
  {
   "cell_type": "code",
   "execution_count": 7,
   "metadata": {},
   "outputs": [],
   "source": [
    "import matplotlib.pyplot as plt\n",
    "plt.style.use('ggplot')\n",
    "%matplotlib inline\n",
    "class LinearRegression:\n",
    "    def __init__(self,learning_rate=0.03,max_iters=50):\n",
    "        self.learning_rate=learning_rate\n",
    "        self.max_iters=max_iters\n",
    "        self.grads=[]\n",
    "    def fit(self,X,y):\n",
    "        m,n=np.shape(X)\n",
    "        X=np.insert(X,n,1,axis=1)          #将X新增一列为1的列向量\n",
    "        W=np.random.randn(X.shape[1])\n",
    "        loss_series=[]\n",
    "        for i in range(self.max_iters):\n",
    "            error=X@W.T-y\n",
    "            grad=(2*X.T@error)/m\n",
    "            self.grads.append(grad)\n",
    "            W=W-self.learning_rate*grad  #更新权重\n",
    "            current_loss=np.square(error).sum()/m\n",
    "            loss_series.append(current_loss)\n",
    "        plt.plot(range(self.max_iters),loss_series,color='blue')\n",
    "        plt.xlabel('The number of iterations')\n",
    "        plt.ylabel('The mean square error')\n",
    "        self.W=W\n",
    "        self.coef_=W[:-1]\n",
    "        self.intercept=W[:-1]\n",
    "        \n",
    "        return self\n",
    "    def predict(self,X):\n",
    "        X_=np.full(shape=(X.shape[0],1),fill_value=1)\n",
    "        X=np.concatenate([X,X_],axis=1)\n",
    "        pre=X@self.W.T\n",
    "        return pre"
   ]
  },
  {
   "cell_type": "code",
   "execution_count": 8,
   "metadata": {},
   "outputs": [
    {
     "data": {
      "text/plain": [
       "21.515179626484365"
      ]
     },
     "execution_count": 8,
     "metadata": {},
     "output_type": "execute_result"
    },
    {
     "data": {
      "image/png": "[encoded data removed]",
      "text/plain": [
       "<Figure size 432x288 with 1 Axes>"
      ]
     },
     "metadata": {
      "needs_background": "light"
     },
     "output_type": "display_data"
    }
   ],
   "source": [
    "lr=LinearRegression(learning_rate=0.1).fit(X_train,y_train)\n",
    "mean_squared_error(y_test,lr.predict(X_test))"
   ]
  },
  {
   "cell_type": "markdown",
   "metadata": {},
   "source": [
    "### 4.使用随机梯度下降法"
   ]
  },
  {
   "cell_type": "code",
   "execution_count": 9,
   "metadata": {},
   "outputs": [],
   "source": [
    "class LinearRegression:\n",
    "    def __init__(self,learning_rate=0.03,max_iters=100):\n",
    "        self.learning_rate=learning_rate\n",
    "        self.max_iters=max_iters\n",
    "    def fit(self,X,y):\n",
    "        m,n=np.shape(X)\n",
    "        X=np.insert(X,n,1,axis=1)          #将X新增一列为1的列向量\n",
    "        W=np.random.randn(X.shape[1])\n",
    "        loss_series=[]\n",
    "        for i in range(self.max_iters):\n",
    "            dataIndex=list(range(m))\n",
    "            for j in range(m):\n",
    "                alpha = 4/(1.0+j+i)+0.001   \n",
    "                randIndex = int(np.random.uniform(0,len(dataIndex)))  #随机挑选一个样本进行迭代                       \n",
    "                error=X[randIndex]@W.T-y[randIndex]\n",
    "                grad=(X[randIndex].T*error)/m\n",
    "                W=W-self.learning_rate*grad  #更新权重\n",
    "                del (dataIndex[randIndex])\n",
    "            current_loss=np.square(error).sum()/m\n",
    "            loss_series.append(current_loss)\n",
    "        plt.plot(range(self.max_iters),loss_series,color='blue')\n",
    "        plt.xlabel('The number of iterations')\n",
    "        plt.ylabel('The mean square error')\n",
    "        self.W=W\n",
    "        self.coef_=W[:-1]\n",
    "        self.intercept=W[:-1]\n",
    "        \n",
    "        return self\n",
    "    def predict(self,X):\n",
    "        X_=np.full(shape=(X.shape[0],1),fill_value=1)\n",
    "        X=np.concatenate([X,X_],axis=1)\n",
    "        pre=X@self.W.T\n",
    "        return pre"
   ]
  },
  {
   "cell_type": "code",
   "execution_count": 10,
   "metadata": {},
   "outputs": [
    {
     "data": {
      "text/plain": [
       "21.93633649949422"
      ]
     },
     "execution_count": 10,
     "metadata": {},
     "output_type": "execute_result"
    },
    {
     "data": {
      "image/png": "[encoded data removed]",
      "text/plain": [
       "<Figure size 432x288 with 1 Axes>"
      ]
     },
     "metadata": {
      "needs_background": "light"
     },
     "output_type": "display_data"
    }
   ],
   "source": [
    "lr=LinearRegression(learning_rate=0.1).fit(X_train,y_train)\n",
    "mean_squared_error(y_test,lr.predict(X_test))"
   ]
  },
  {
   "cell_type": "markdown",
   "metadata": {},
   "source": [
    "### 5.使用坐标轴下降法求解Lasso"
   ]
  },
  {
   "cell_type": "code",
   "execution_count": 11,
   "metadata": {},
   "outputs": [],
   "source": [
    "#from https://github.com/luowanqian/MachineLearning\n",
    "import numpy as np\n",
    "from sklearn import preprocessing\n",
    "\n",
    "class Lasso:\n",
    "    \"\"\"\n",
    "    The optimization objective of Lasso is\n",
    "        1/(2 * n) * ||y - Xw||^2_2 + alpha * ||w||_1\n",
    "    \"\"\"\n",
    "\n",
    "    def __init__(self, alpha=1.0, fit_intercept=True, normalize=False,\n",
    "                 copy_X=True, max_iter=1000, tol=0.0001, selection='cyclic'):\n",
    "        self.alpha = alpha\n",
    "        self._fit_intercept = fit_intercept\n",
    "        self.normalize = normalize\n",
    "        self._copy_X = copy_X\n",
    "        self.max_iter = max_iter\n",
    "        self.tol = tol\n",
    "        self._selection = selection\n",
    "\n",
    "        if normalize:\n",
    "            self._scaler = preprocessing.StandardScaler()\n",
    "\n",
    "    def compute_step(self, k, X, y, coef, intercept, alpha):\n",
    "        n, p = X.shape\n",
    "        y_predict = np.dot(X, coef) + intercept\n",
    "        rk = np.dot(X[:, k], y - y_predict + X[:, k] * coef[k])\n",
    "        rk = rk / (1.0 * n)\n",
    "        zk = np.linalg.norm(X[:, k], ord=2) ** 2\n",
    "        zk = zk / (1.0 * n)\n",
    "        coef_k = (np.amax([rk-alpha, 0]) - np.amax([-rk-alpha, 0]))\n",
    "        coef_k = coef_k / (1.0 * zk)\n",
    "\n",
    "        return coef_k\n",
    "\n",
    "    def objective(self, X, y, coef, intercept, alpha):\n",
    "        n, p = X.shape\n",
    "        total = 0\n",
    "\n",
    "        y_predict = np.dot(X, coef) + intercept\n",
    "        total += \\\n",
    "            1/(2.0*n) * np.linalg.norm(y-y_predict, ord=2) ** 2\n",
    "        total += alpha * np.linalg.norm(coef, ord=1)\n",
    "\n",
    "        return total\n",
    "\n",
    "    def fit(self, X, y):\n",
    "        if self._copy_X:\n",
    "            X = X.copy()\n",
    "        if self.normalize:\n",
    "            X = self._scaler.fit_transform(X)\n",
    "        self._objectives = []\n",
    "\n",
    "        # initialize data\n",
    "        num_samples, num_features = X.shape\n",
    "        coef = np.zeros(num_features)\n",
    "        old_coef = np.zeros(num_features)\n",
    "        intercept = 0\n",
    "        if self._fit_intercept:\n",
    "            tmp = y - np.dot(X, coef)\n",
    "            intercept = np.sum(tmp) / (1.0 * num_samples)\n",
    "        num_iters = 0\n",
    "        for iter in range(self.max_iter):\n",
    "            num_iters = num_iters + 1\n",
    "            if (self._selection == 'cyclic'):\n",
    "                for k in range(num_features):\n",
    "                    old_coef[k] = coef[k]\n",
    "                    coef[k] = self.compute_step(k, X, y, coef,\n",
    "                                                intercept, self.alpha)\n",
    "                if self._fit_intercept:\n",
    "                    tmp = y - np.dot(X, coef)\n",
    "                    intercept = np.sum(tmp) / (1.0 * num_samples)\n",
    "\n",
    "                # check condition of convergence\n",
    "                coef_updates = np.abs(coef - old_coef)\n",
    "                if np.amax(coef_updates) < self.tol:\n",
    "                    break\n",
    "            self._objectives.append(self.objective(X, y, coef,\n",
    "                                                   intercept, self.alpha))\n",
    "        plt.plot(range(num_iters-1),[i/num_samples for i in self._objectives])\n",
    "        plt.xlabel('The number of iterations')\n",
    "        plt.ylabel('The mean square error')\n",
    "        plt.title('The loss curve')\n",
    "        self.coef = coef\n",
    "        self.intercept = intercept\n",
    "        self.num_iters = num_iters\n",
    "        \n",
    "        return self\n",
    "\n",
    "    def predict(self, X):\n",
    "        if self._copy_X:\n",
    "            X = X.copy()\n",
    "        if self.normalize:\n",
    "            X = self._scaler.transform(X)\n",
    "        y_predict = np.dot(X, self.coef) + self.intercept\n",
    "        return y_predict"
   ]
  },
  {
   "cell_type": "code",
   "execution_count": 12,
   "metadata": {},
   "outputs": [
    {
     "name": "stdout",
     "output_type": "stream",
     "text": [
      "[30.4143634  25.18829676 30.89925187 29.05721601 28.42510132]\n",
      "[30.4143669  25.18829656 30.89925312 29.05721568 28.4251009 ]\n"
     ]
    },
    {
     "data": {
      "image/png": "[encoded data removed]",
      "text/plain": [
       "<Figure size 432x288 with 1 Axes>"
      ]
     },
     "metadata": {
      "needs_background": "light"
     },
     "output_type": "display_data"
    }
   ],
   "source": [
    "from sklearn.linear_model import Lasso as Sk_las\n",
    "\n",
    "lr=Lasso(alpha=0.1,tol=1e-6).fit(X,y)\n",
    "sk_las=Sk_las(alpha=0.1,tol=1e-6).fit(X,y)\n",
    "print(lr.predict(X)[:5])\n",
    "print(sk_las.predict(X)[:5])"
   ]
  }
 ],
 "metadata": {
  "kernelspec": {
   "display_name": "Python 3",
   "language": "python",
   "name": "python3"
  },
  "language_info": {
   "codemirror_mode": {
    "name": "ipython",
    "version": 3
   },
   "file_extension": ".py",
   "mimetype": "text/x-python",
   "name": "python",
   "nbconvert_exporter": "python",
   "pygments_lexer": "ipython3",
   "version": "3.6.9"
  }
 },
 "nbformat": 4,
 "nbformat_minor": 2
}
