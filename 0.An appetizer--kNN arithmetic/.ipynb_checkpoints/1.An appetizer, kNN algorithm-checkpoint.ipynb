{
 "cells": [
  {
   "cell_type": "code",
   "execution_count": 1,
   "metadata": {},
   "outputs": [],
   "source": [
    "class kNN:\n",
    "    def __init__(self,k,kind='classification',metric='Euclidean'):\n",
    "        self.k=k         \n",
    "        if (kind!='classification') and (kind!='regression'):\n",
    "            raise('Algorithm type error')   \n",
    "        self.kind=kind\n",
    "        self.metric=metric\n",
    "        \n",
    "    def fit(self,X,y):       \n",
    "        self.max=np.max(X,axis=0)\n",
    "        self.min=np.min(X,axis=0)\n",
    "        self.interX=(X-self.min)/(self.max-self.min) \n",
    "        self.intery=y.reshape(-1,1)\n",
    "        \n",
    "    def predict(self,X):\n",
    "        X=(X-self.min)/(self.max-self.min)  \n",
    "        y_pres=[]\n",
    "        for i in X:\n",
    "            distance=self.cal_dis(self.interX,i).reshape(-1,1)\n",
    "            data=np.concatenate([distance,self.intery],axis=1)\n",
    "            data = data[data[:,-2].argsort()] \n",
    "            if self.kind=='classification': \n",
    "                class_list=data[:self.k,-1].tolist()  \n",
    "                y_pred=max(class_list,key=class_list.count)  \n",
    "            elif self.kind=='regression':  \n",
    "                values=data[:self.k,-1]  \n",
    "                y_pred=np.mean(values) \n",
    "            y_pres.append(y_pred)\n",
    "        return np.array(y_pres)\n",
    "                      \n",
    "    def cal_dis(self,X,xi):\n",
    "        if self.metric=='Euclidean':\n",
    "            return np.sqrt(np.sum((X-xi)**2,axis=1))\n",
    "        elif self.metric=='Manhattan':\n",
    "            return np.sum(np.abs(X-xi),axis=1)\n",
    "        \n",
    "\n",
    "class KNeighborsClassifier(kNN):\n",
    "    def __init__(self,k,metric='Euclidean'):\n",
    "        kind='classification'\n",
    "        super().__init__(k,kind)\n",
    "        \n",
    "class KNeighborsRegressor(kNN):\n",
    "    def __init__(self,k,metric='Euclidean'):\n",
    "        kind='regression'\n",
    "        super().__init__(k,kind)"
   ]
  },
  {
   "cell_type": "code",
   "execution_count": 2,
   "metadata": {},
   "outputs": [
    {
     "name": "stdout",
     "output_type": "stream",
     "text": [
      "Wall time: 0 ns\n"
     ]
    },
    {
     "data": {
      "text/plain": [
       "array([2., 1., 0., 2., 0., 2., 0., 1., 1., 1., 2., 1., 1., 1., 1., 0., 1.,\n",
       "       1., 0., 0., 2., 1., 0., 0., 2., 0., 0., 1., 1., 0., 2., 1., 0., 2.,\n",
       "       2., 1., 0., 2., 1., 1., 2., 0., 2., 0., 0.])"
      ]
     },
     "execution_count": 2,
     "metadata": {},
     "output_type": "execute_result"
    }
   ],
   "source": [
    "%time\n",
    "import numpy as np \n",
    "np.random.seed(0)\n",
    "from sklearn.datasets import load_iris\n",
    "from sklearn.model_selection import train_test_split\n",
    "from sklearn.metrics import accuracy_score,mean_squared_error\n",
    "\n",
    "\n",
    "X,y=load_iris().data,load_iris().target\n",
    "X_train,X_test,y_train,y_test=train_test_split(X,y,test_size=0.3)\n",
    "model=KNeighborsClassifier(k=5,metric='Manhattan')\n",
    "model.fit(X_train,y_train)\n",
    "model.predict(X_test)"
   ]
  },
  {
   "cell_type": "code",
   "execution_count": 3,
   "metadata": {},
   "outputs": [
    {
     "data": {
      "text/plain": [
       "0.9777777777777777"
      ]
     },
     "execution_count": 3,
     "metadata": {},
     "output_type": "execute_result"
    }
   ],
   "source": [
    "accuracy_score(model.predict(X_test),y_test)"
   ]
  },
  {
   "cell_type": "code",
   "execution_count": 4,
   "metadata": {},
   "outputs": [
    {
     "data": {
      "text/plain": [
       "0.04000000000000001"
      ]
     },
     "execution_count": 4,
     "metadata": {},
     "output_type": "execute_result"
    }
   ],
   "source": [
    "from sklearn.datasets import load_boston\n",
    "X,y=load_iris().data,load_iris().target\n",
    "X_train,X_test,y_train,y_test=train_test_split(X,y,test_size=0.3)\n",
    "\n",
    "model=KNeighborsRegressor(k=5)\n",
    "model.fit(X_train,y_train)\n",
    "result=model.predict(X_test)\n",
    "mean_squared_error(result,y_test)"
   ]
  },
  {
   "cell_type": "code",
   "execution_count": 5,
   "metadata": {},
   "outputs": [
    {
     "name": "stdout",
     "output_type": "stream",
     "text": [
      "Wall time: 0 ns\n"
     ]
    },
    {
     "data": {
      "text/plain": [
       "0.03644444444444444"
      ]
     },
     "execution_count": 5,
     "metadata": {},
     "output_type": "execute_result"
    }
   ],
   "source": [
    "%time\n",
    "from sklearn.neighbors import KNeighborsRegressor as sk_kNN\n",
    "sklearn_kNN=sk_kNN(n_neighbors=5)\n",
    "sklearn_kNN.fit(X_train,y_train)\n",
    "sklearn_result=sklearn_kNN.predict(X_test)\n",
    "mean_squared_error(sklearn_result,y_test)"
   ]
  },
  {
   "cell_type": "code",
   "execution_count": null,
   "metadata": {},
   "outputs": [],
   "source": []
  }
 ],
 "metadata": {
  "kernelspec": {
   "display_name": "Python 3",
   "language": "python",
   "name": "python3"
  },
  "language_info": {
   "codemirror_mode": {
    "name": "ipython",
    "version": 3
   },
   "file_extension": ".py",
   "mimetype": "text/x-python",
   "name": "python",
   "nbconvert_exporter": "python",
   "pygments_lexer": "ipython3",
   "version": "3.6.8"
  }
 },
 "nbformat": 4,
 "nbformat_minor": 2
}
