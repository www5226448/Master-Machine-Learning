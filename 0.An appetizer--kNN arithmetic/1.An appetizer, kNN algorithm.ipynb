{
 "cells": [
  {
   "cell_type": "markdown",
   "metadata": {},
   "source": [
    "### kNN算法\n",
    "kNN算法是机器学习中最简单的算法\n",
    "- 分类，选取k个近邻，如果一个样本在特征空间中的k个最相似(即特征空间中最邻近)的样本中的大多数属于某一个类别，则该样本也属于这个类别。  \n",
    "\n",
    "  \n",
    "- 回归，选取k个近邻，该样本在特征空间中的k个最相似(即特征空间中最邻近)的样本中均值"
   ]
  },
  {
   "cell_type": "code",
   "execution_count": 1,
   "metadata": {},
   "outputs": [],
   "source": [
    "import numpy as np \n",
    "np.random.seed(0)\n",
    "from sklearn.datasets import load_iris\n",
    "from sklearn.model_selection import train_test_split\n",
    "from sklearn.metrics import accuracy_score,mean_squared_error\n",
    "X,y=load_iris().data,load_iris().target\n",
    "X_train,X_test,y_train,y_test=train_test_split(X,y,test_size=0.7)"
   ]
  },
  {
   "cell_type": "code",
   "execution_count": 2,
   "metadata": {},
   "outputs": [],
   "source": [
    "class kNN:\n",
    "    '''k:选取的近邻个数，\n",
    "    kind:如果为C为分类器，如果为R为回归模型\n",
    "    '''\n",
    "    def __init__(self,k,kind='classification'):\n",
    "        self.k=k         #k个近邻\n",
    "        if (kind!='classification') and (kind!='regression'):\n",
    "            raise('Algorithm type error')   #如果输入的任务类型参数有错，报错\n",
    "        self.kind=kind\n",
    "    def fit(self,X,y):\n",
    "        self.interX=X=(X-np.min(X,axis=0))/(np.max(X,axis=0)-np.min(X,axis=0))  #将X数据标准化\n",
    "        self.intery=y.reshape(-1,1)\n",
    "        \n",
    "    def predict(self,X):\n",
    "        X=(X-np.min(X,axis=0))/(np.max(X,axis=0)-np.min(X,axis=0))  #将数据标准化\n",
    "        y_pre=[]\n",
    "        if self.kind=='classification':  #如果是分类任务\n",
    "            for i in X:\n",
    "                distance=np.sqrt(np.sum((self.interX-i)**2,axis=1)).reshape(-1,1)\n",
    "                data=np.concatenate([distance,self.intery],axis=1)\n",
    "                data = data[data[:,-2].argsort()] #按照倒数第二列距离排序\n",
    "                class_list=data[:self.k,-1].tolist()  #获取前k个相近样本的预测值\n",
    "                result=max(class_list,key=class_list.count)  #获取列表中出现最多的元素\n",
    "                y_pre.append(int(result))\n",
    "        if self.kind=='regression':  #如果为回归任务\n",
    "            for i in X:\n",
    "                distance=np.sqrt(np.sum((self.interX-i)**2,axis=1)).reshape(-1,1)\n",
    "                data=np.concatenate([distance,self.intery],axis=1)\n",
    "                data = data[data[:,-2].argsort()] #按照倒数第二列距离排序\n",
    "                values=data[:self.k,-1]  #获取前k个相近样本的预测值\n",
    "                result=np.mean(values)  #获取数组的平均值\n",
    "                y_pre.append(result)\n",
    "        return np.array(y_pre)"
   ]
  },
  {
   "cell_type": "code",
   "execution_count": 3,
   "metadata": {},
   "outputs": [
    {
     "name": "stdout",
     "output_type": "stream",
     "text": [
      "CPU times: user 2 µs, sys: 1 µs, total: 3 µs\n",
      "Wall time: 4.77 µs\n"
     ]
    },
    {
     "data": {
      "text/plain": [
       "array([2, 1, 0, 2, 0, 2, 0, 1, 1, 1, 1, 1, 1, 1, 1, 0, 1, 1, 0, 0, 2, 1,\n",
       "       0, 0, 1, 0, 0, 1, 1, 0, 2, 1, 0, 1, 2, 1, 0, 1, 1, 1, 2, 0, 2, 0,\n",
       "       0, 1, 2, 2, 1, 2, 1, 2, 1, 1, 1, 1, 1, 2, 1, 2, 1, 0, 2, 1, 1, 1,\n",
       "       1, 2, 0, 0, 2, 1, 0, 0, 1, 0, 2, 1, 0, 1, 2, 1, 0, 2, 2, 2, 2, 0,\n",
       "       0, 2, 2, 0, 2, 0, 2, 2, 0, 0, 2, 0, 0, 0, 1, 2, 2])"
      ]
     },
     "execution_count": 3,
     "metadata": {},
     "output_type": "execute_result"
    }
   ],
   "source": [
    "%time\n",
    "model=kNN(k=5,kind='classification')\n",
    "model.fit(X_train,y_train)\n",
    "model.predict(X_test)"
   ]
  },
  {
   "cell_type": "code",
   "execution_count": 4,
   "metadata": {},
   "outputs": [
    {
     "data": {
      "text/plain": [
       "0.9333333333333333"
      ]
     },
     "execution_count": 4,
     "metadata": {},
     "output_type": "execute_result"
    }
   ],
   "source": [
    "accuracy_score(model.predict(X_test),y_test)"
   ]
  },
  {
   "cell_type": "code",
   "execution_count": 5,
   "metadata": {},
   "outputs": [
    {
     "data": {
      "text/plain": [
       "0.05866666666666668"
      ]
     },
     "execution_count": 5,
     "metadata": {},
     "output_type": "execute_result"
    }
   ],
   "source": [
    "from sklearn.datasets import load_boston\n",
    "X,y=load_iris().data,load_iris().target\n",
    "X_train,X_test,y_train,y_test=train_test_split(X,y,test_size=0.3)\n",
    "\n",
    "model=kNN(k=5,kind='regression')\n",
    "model.fit(X_train,y_train)\n",
    "result=model.predict(X_test)\n",
    "mean_squared_error(result,y_test)"
   ]
  },
  {
   "cell_type": "code",
   "execution_count": 6,
   "metadata": {},
   "outputs": [
    {
     "name": "stdout",
     "output_type": "stream",
     "text": [
      "CPU times: user 2 µs, sys: 0 ns, total: 2 µs\n",
      "Wall time: 5.96 µs\n"
     ]
    },
    {
     "data": {
      "text/plain": [
       "0.03644444444444444"
      ]
     },
     "execution_count": 6,
     "metadata": {},
     "output_type": "execute_result"
    }
   ],
   "source": [
    "%time\n",
    "from sklearn.neighbors import KNeighborsRegressor\n",
    "sklearn_kNN=KNeighborsRegressor(n_neighbors=5)\n",
    "sklearn_kNN.fit(X_train,y_train)\n",
    "sklearn_result=sklearn_kNN.predict(X_test)\n",
    "mean_squared_error(sklearn_result,y_test)"
   ]
  }
 ],
 "metadata": {
  "kernelspec": {
   "display_name": "Python 3",
   "language": "python",
   "name": "python3"
  },
  "language_info": {
   "codemirror_mode": {
    "name": "ipython",
    "version": 3
   },
   "file_extension": ".py",
   "mimetype": "text/x-python",
   "name": "python",
   "nbconvert_exporter": "python",
   "pygments_lexer": "ipython3",
   "version": "3.6.4"
  }
 },
 "nbformat": 4,
 "nbformat_minor": 2
}
