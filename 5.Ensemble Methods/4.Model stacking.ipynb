{
 "cells": [
  {
   "cell_type": "markdown",
   "metadata": {},
   "source": [
    "### Meta-model Stacking：  \n",
    "在这种方法中，我们在平均基础模型上添加Meta-model，并使用这些基模型的out-of-folds预测来训练我们的Meta-model。  \n",
    "训练部分的步骤如下：  \n",
    "1、将整个训练集分解成两个不相交的集合（这里是train和.holdout）。   \n",
    "2、在第一部分（train）上训练几个基本模型。   \n",
    "3、在第二个部分（holdout）上测试这些基本模型。   \n",
    "4、使用(3)中的预测（称为 out-of-fold 预测）作为输入，并将正确的标签（目标变量）作为输出来训练更高层次的学习模型称为元模型。   \n",
    "前三个步骤是迭代完成的。例如，如果我们采取5倍的fold，我们首先将训练数据分成5次。然后我们会做5次迭代。在每次迭代中，我们训练每个基础模型4倍，并预测剩余的fold（holdout fold）。"
   ]
  },
  {
   "cell_type": "markdown",
   "metadata": {},
   "source": [
    "构建了一个Stacking averaged Models的类："
   ]
  },
  {
   "cell_type": "code",
   "execution_count": 1,
   "metadata": {},
   "outputs": [],
   "source": [
    "import numpy as np\n",
    "np.random.seed(7)\n",
    "from sklearn.base import BaseEstimator,RegressorMixin,clone,ClassifierMixin\n",
    "from sklearn.model_selection import KFold\n",
    "\n",
    "class StackingAveragedModels:\n",
    "    def __init__(self, base_models, meta_model, n_folds=5):\n",
    "        self.base_models = base_models\n",
    "        self.meta_model = meta_model\n",
    "        self.n_folds = n_folds\n",
    "   \n",
    "    # 遍历拟合原始模型\n",
    "    def fit(self, X, y):\n",
    "        self.base_models_ = [list() for x in self.base_models]\n",
    "        self.meta_model_ = clone(self.meta_model)\n",
    "        kfold = KFold(n_splits=self.n_folds, shuffle=True, random_state=156)\n",
    "        \n",
    "        # 得到基模型，并用基模型对out_of_fold做预估，为学习stacking的第2层做数据准备\n",
    "        out_of_fold_predictions = np.zeros((X.shape[0], len(self.base_models)))\n",
    "        for i, model in enumerate(self.base_models):\n",
    "            for train_index, holdout_index in kfold.split(X, y):\n",
    "                instance = clone(model)\n",
    "                self.base_models_[i].append(instance)\n",
    "                instance.fit(X[train_index], y[train_index])\n",
    "                y_pred = instance.predict(X[holdout_index])\n",
    "                out_of_fold_predictions[holdout_index, i] = y_pred\n",
    "                \n",
    "        self.meta_model_.fit(out_of_fold_predictions, y)\n",
    "        \n",
    "        return self\n",
    "   \n",
    "    # 做stacking预估\n",
    "    def predict(self, X):\n",
    "        #如果是回归问题\n",
    "        if isinstance(self.meta_model,RegressorMixin):\n",
    "            meta_features = np.column_stack([\n",
    "            np.column_stack([model.predict(X) for model in base_models]).mean(axis=1)\n",
    "            for base_models in self.base_models_ ])\n",
    "            return self.meta_model_.predict(meta_features)\n",
    "        #如果是分类问题\n",
    "        elif isinstance(self.meta_model,ClassifierMixin):\n",
    "            meta_features=[]\n",
    "            for i in self.base_models_:\n",
    "                l=np.array([np.argmax(np.bincount(k)) for k in \n",
    "                            (np.column_stack(j.predict(X) for j in i))])\n",
    "                meta_features.append(l)\n",
    "            return self.meta_model_.predict(np.array(meta_features).T)\n",
    "        else:\n",
    "            raise Exception('Please check the model type')      "
   ]
  },
  {
   "cell_type": "markdown",
   "metadata": {},
   "source": [
    "### 模型融合\n",
    "- 回归问题"
   ]
  },
  {
   "cell_type": "code",
   "execution_count": 2,
   "metadata": {
    "scrolled": true
   },
   "outputs": [
    {
     "data": {
      "text/plain": [
       "15.892954700262408"
      ]
     },
     "execution_count": 2,
     "metadata": {},
     "output_type": "execute_result"
    }
   ],
   "source": [
    "from sklearn.datasets import load_boston,load_iris\n",
    "from sklearn.ensemble import RandomForestRegressor,RandomForestClassifier\n",
    "from sklearn.svm import SVR,SVC\n",
    "from sklearn.linear_model import LinearRegression,LogisticRegression\n",
    "from sklearn.model_selection import train_test_split\n",
    "from sklearn.metrics import mean_squared_error,accuracy_score\n",
    "import warnings\n",
    "warnings.filterwarnings('ignore')\n",
    "\n",
    "X,y=load_boston().data,load_boston().target\n",
    "X_train,X_test,y_train,y_test=train_test_split(X,y,test_size=0.3)\n",
    "\n",
    "svm=SVR()\n",
    "lr=LinearRegression()\n",
    "randomForest=RandomForestRegressor()\n",
    "\n",
    "\n",
    "Models=StackingAveragedModels(base_models=(svm,lr,randomForest),\n",
    "                              meta_model=lr)\n",
    "Models.fit(X_train,y_train)\n",
    "y_pre=Models.predict(X_test)\n",
    "\n",
    "mean_squared_error(y_test,y_pre)"
   ]
  },
  {
   "cell_type": "markdown",
   "metadata": {},
   "source": [
    "- 分类问题"
   ]
  },
  {
   "cell_type": "code",
   "execution_count": 3,
   "metadata": {},
   "outputs": [
    {
     "data": {
      "text/plain": [
       "0.9555555555555556"
      ]
     },
     "execution_count": 3,
     "metadata": {},
     "output_type": "execute_result"
    }
   ],
   "source": [
    "\n",
    "\n",
    "X,y=load_iris().data,load_iris().target\n",
    "X_train,X_test,y_train,y_test=train_test_split(X,y,test_size=0.3)\n",
    "\n",
    "svm=SVC().fit(X_train,y_train)\n",
    "lr=LogisticRegression().fit(X_train,y_train)\n",
    "randomForest=RandomForestClassifier().fit(X_train,y_train)\n",
    "\n",
    "\n",
    "\n",
    "Models=StackingAveragedModels(base_models=(svm,lr,randomForest),\n",
    "                              meta_model=LogisticRegression())\n",
    "Models.fit(X_train,y_train)\n",
    "y_pre=Models.predict(X_test)\n",
    "accuracy_score(y_test,y_pre)"
   ]
  }
 ],
 "metadata": {
  "kernelspec": {
   "display_name": "Python 3",
   "language": "python",
   "name": "python3"
  },
  "language_info": {
   "codemirror_mode": {
    "name": "ipython",
    "version": 3
   },
   "file_extension": ".py",
   "mimetype": "text/x-python",
   "name": "python",
   "nbconvert_exporter": "python",
   "pygments_lexer": "ipython3",
   "version": "3.6.4"
  }
 },
 "nbformat": 4,
 "nbformat_minor": 2
}
