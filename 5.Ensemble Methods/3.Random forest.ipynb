{
 "cells": [
  {
   "cell_type": "code",
   "execution_count": 1,
   "metadata": {},
   "outputs": [],
   "source": [
    "import numpy as np\n",
    "from sklearn.tree import DecisionTreeClassifier\n",
    "from sklearn.base import clone\n",
    "\n",
    "\n",
    "class RandomForestClassifier():\n",
    "    def __init__(self, n_estimators=100,\n",
    "                 criterion='gini',\n",
    "                 splitter='best',\n",
    "                 max_depth=None,\n",
    "                 min_samples_split=2,\n",
    "                 min_samples_leaf=1,\n",
    "                 max_features=None,\n",
    "                 random_state=None):\n",
    "        \n",
    "        self.n_estimators=n_estimators\n",
    "        self.criterion=criterion\n",
    "        self.splitter=splitter\n",
    "        self.max_depth=max_depth\n",
    "        self.min_samples_split=min_samples_split\n",
    "        self.min_samples_leaf=min_samples_leaf\n",
    "        self.max_features=max_features\n",
    "        self.random_state=random_state\n",
    "        \n",
    "        base_estimators=DecisionTreeClassifier(criterion=self.criterion,\n",
    "                                              splitter=self.splitter,\n",
    "                                              max_depth=self.max_depth,\n",
    "                                              min_samples_split=self.min_samples_split,\n",
    "                                              min_samples_leaf=self.min_samples_leaf,\n",
    "                                              max_features=self.max_features,\n",
    "                                              random_state=self.random_state) \n",
    "        np.random.seed(random_state)\n",
    "        self.trees = [clone(base_estimators) for i in range(self.n_estimators)]  \n",
    "\n",
    "            \n",
    "    def get_bootstrap(self, X, Y):\n",
    "        self.data_index=[]\n",
    "        m,n=X.shape\n",
    "        if self.max_features == None:\n",
    "            self.max_features = int(np.sqrt(n))\n",
    "        for i in range(self.n_estimators):\n",
    "            id_x=np.random.choice(m, m, replace=True)  #这里抽取数据允许重复\n",
    "            id_f=np.random.choice(n, self.max_features, replace=False)  #获取随机特征\n",
    "            \n",
    "            self.data_index.append([id_x,id_f])\n",
    "                       \n",
    "    def fit(self, X, Y):\n",
    "        self.get_bootstrap(X, Y)\n",
    "        for i in range(self.n_estimators):\n",
    "            id_x, id_f = self.data_index[i]\n",
    "            self.trees[i].fit(X[id_x][:,id_f], Y[id_x])\n",
    "        return self\n",
    "\n",
    "    def predict(self, X):\n",
    "        y_preds = []\n",
    "        for i in range(self.n_estimators):\n",
    "            idx = self.data_index[i][1]\n",
    "            sub_X = X[:, idx]\n",
    "            y_pre = self.trees[i].predict(sub_X)\n",
    "            y_preds.append(y_pre)\n",
    "        y_preds = np.array(y_preds).T\n",
    "        y_pred = []\n",
    "        for y_p in y_preds:\n",
    "            y_pred.append(np.bincount(y_p.astype('int')).argmax())\n",
    "        return np.array(y_pred)"
   ]
  },
  {
   "cell_type": "code",
   "execution_count": 2,
   "metadata": {},
   "outputs": [
    {
     "data": {
      "text/plain": [
       "1.0"
      ]
     },
     "execution_count": 2,
     "metadata": {},
     "output_type": "execute_result"
    }
   ],
   "source": [
    "from sklearn.datasets import load_breast_cancer\n",
    "from sklearn.model_selection import train_test_split,cross_val_score\n",
    "from sklearn.metrics import accuracy_score\n",
    "\n",
    "X,y=load_breast_cancer().data,load_breast_cancer().target\n",
    "X_train,X_test,y_train,y_test=train_test_split(X,y,test_size=0.3)\n",
    "model=RandomForestClassifier(random_state=7).fit(X,y)\n",
    "accuracy_score(y_test,model.predict(X_test))"
   ]
  }
 ],
 "metadata": {
  "kernelspec": {
   "display_name": "Python 3",
   "language": "python",
   "name": "python3"
  },
  "language_info": {
   "codemirror_mode": {
    "name": "ipython",
    "version": 3
   },
   "file_extension": ".py",
   "mimetype": "text/x-python",
   "name": "python",
   "nbconvert_exporter": "python",
   "pygments_lexer": "ipython3",
   "version": "3.6.8"
  }
 },
 "nbformat": 4,
 "nbformat_minor": 2
}
