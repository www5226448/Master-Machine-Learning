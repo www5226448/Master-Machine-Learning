{
 "cells": [
  {
   "cell_type": "code",
   "execution_count": 1,
   "metadata": {},
   "outputs": [],
   "source": [
    "import numpy as np\n",
    "class SquareLoss:\n",
    "    def loss(self, y, y_pred):\n",
    "        return 0.5 * np.power((y - y_pred), 2) \n",
    "    def gradient(self, y, y_pred):\n",
    "        return -(y - y_pred)\n",
    "\n",
    "class CrossEntropy:\n",
    "    def loss(self, y, p):        \n",
    "        p=np.clip(p,0.0001,0.9999)\n",
    "        return - y * np.log(p) - (1 - y) * np.log(1 - p)\n",
    "    def gradient(self, y, p):\n",
    "        return - (y / p) + (1 - y) / (1 - p)\n",
    "    \n",
    "def to_categorical(x, n_col=None):\n",
    "    if not n_col:\n",
    "        n_col = np.amax(x) + 1\n",
    "    one_hot = np.zeros((x.shape[0], n_col))\n",
    "    one_hot[np.arange(x.shape[0]), x] = 1\n",
    "    return one_hot"
   ]
  },
  {
   "cell_type": "code",
   "execution_count": 2,
   "metadata": {},
   "outputs": [],
   "source": [
    "from sklearn.tree import DecisionTreeRegressor as RegressionTree\n",
    "from sklearn.base import clone\n",
    "\n",
    "class GradientBoosting:\n",
    "    def __init__(self, \n",
    "                 n_estimators=100, \n",
    "                 criterion='friedman_mse',\n",
    "                 min_samples_split=2,\n",
    "                 min_samples_leaf=1,\n",
    "                 min_impurity_decrease=0,\n",
    "                 max_depth=3,\n",
    "                 max_features=None, \n",
    "                 random_state=None,\n",
    "                 regression=None,\n",
    "                 learning_rate=0.1):\n",
    "        \n",
    "        self.criterion=criterion\n",
    "        self.n_estimators = n_estimators\n",
    "        self.learning_rate = learning_rate\n",
    "        self.min_samples_split = min_samples_split\n",
    "        self.min_samples_leaf=min_samples_leaf\n",
    "        self.min_impurity_decrease=min_impurity_decrease\n",
    "        self.max_depth = max_depth\n",
    "        self.random_state=random_state\n",
    "        np.random.seed(random_state)\n",
    "        self.regression = regression\n",
    "        self.loss = SquareLoss() \n",
    "        if not self.regression:    \n",
    "            self.loss = CrossEntropy()\n",
    "\n",
    "        base_estimators=RegressionTree(criterion=self.criterion,\n",
    "                                       max_depth=self.max_depth,\n",
    "                                       min_samples_split=self.min_samples_split,\n",
    "                                       min_samples_leaf=self.min_samples_leaf,\n",
    "                                       min_impurity_decrease=self.min_impurity_decrease,\n",
    "                                      random_state=self.random_state)\n",
    "        self.trees = [clone(base_estimators) for _ in range(n_estimators)]\n",
    "        \n",
    "\n",
    "\n",
    "    def fit(self, X, y):       \n",
    "        y_pred = np.full(np.shape(y), np.mean(y, axis=0))\n",
    "        for i in range(self.n_estimators):\n",
    "            gradient = self.loss.gradient(y, y_pred)\n",
    "            self.trees[i].fit(X, gradient)\n",
    "            update = self.trees[i].predict(X)\n",
    "            y_pred -= self.learning_rate * update\n",
    "\n",
    "    def predict(self, X):\n",
    "        y_pred = np.array([])\n",
    "        for tree in self.trees:\n",
    "            update = tree.predict(X)\n",
    "            update = self.learning_rate * update\n",
    "            y_pred = -update if not y_pred.any() else y_pred - update\n",
    "\n",
    "        if not self.regression:\n",
    "            y_pred = np.exp(y_pred) /(np.sum(np.exp(y_pred), axis=1)+1).reshape(-1,1)\n",
    "            self.probs=y_pred\n",
    "            y_pred = np.argmax(y_pred, axis=1)\n",
    "        return y_pred\n",
    "    \n",
    "        \n",
    "\n",
    "class GradientBoostingRegressor(GradientBoosting):\n",
    "    def __init__(self, n_estimators=200, learning_rate=0.5, min_samples_split=2,\n",
    "                 max_depth=4,random_state=None):\n",
    "        super(GradientBoostingRegressor, self).__init__(n_estimators=n_estimators, \n",
    "            learning_rate=learning_rate, \n",
    "            min_samples_split=min_samples_split, \n",
    "            max_depth=max_depth,\n",
    "            random_state=random_state,\n",
    "            regression=True)\n",
    "\n",
    "class GradientBoostingClassifier(GradientBoosting):\n",
    "    def __init__(self, n_estimators=200, learning_rate=.5, min_samples_split=2,\n",
    "                 max_depth=2,random_state=None):\n",
    "        super(GradientBoostingClassifier, self).__init__(n_estimators=n_estimators, \n",
    "            learning_rate=learning_rate, \n",
    "            min_samples_split=min_samples_split, \n",
    "            max_depth=max_depth,\n",
    "            random_state=random_state,\n",
    "            regression=False)\n",
    "\n",
    "    def fit(self, X, y):\n",
    "        y = to_categorical(y)\n",
    "        super(GradientBoostingClassifier, self).fit(X, y)\n",
    "        \n",
    "    def predict_prob(self,X):\n",
    "        self.predict(X)\n",
    "        return self.probs"
   ]
  },
  {
   "cell_type": "code",
   "execution_count": 3,
   "metadata": {},
   "outputs": [
    {
     "data": {
      "text/plain": [
       "array([0, 1, 2, 0, 1, 0, 2, 1, 1, 1, 2, 2, 0, 1, 2, 1, 1, 0, 1, 2, 0, 0,\n",
       "       0, 2, 1, 2, 2, 1, 1, 0, 1, 2, 0, 1, 2, 2, 0, 1, 2, 1, 1, 0, 0, 1,\n",
       "       2], dtype=int64)"
      ]
     },
     "execution_count": 3,
     "metadata": {},
     "output_type": "execute_result"
    }
   ],
   "source": [
    "from sklearn.datasets import load_iris\n",
    "from sklearn.model_selection import train_test_split\n",
    "from sklearn.metrics import accuracy_score,mean_squared_error,mean_absolute_error\n",
    "X,y=load_iris().data,load_iris().target\n",
    "X_train,X_test,y_train,y_test=train_test_split(X,y,test_size=0.3)\n",
    "model=GradientBoostingClassifier(random_state=7)\n",
    "model.fit(X_train,y_train)\n",
    "model.predict(X_test)"
   ]
  },
  {
   "cell_type": "code",
   "execution_count": 4,
   "metadata": {},
   "outputs": [
    {
     "data": {
      "text/plain": [
       "0.8888888888888888"
      ]
     },
     "execution_count": 4,
     "metadata": {},
     "output_type": "execute_result"
    }
   ],
   "source": [
    "accuracy_score(y_test,model.predict(X_test))"
   ]
  },
  {
   "cell_type": "code",
   "execution_count": 5,
   "metadata": {},
   "outputs": [
    {
     "data": {
      "text/plain": [
       "array([[9.99996368e-01, 1.82090556e-11, 4.92570440e-12],\n",
       "       [4.12671838e-11, 9.99992117e-01, 2.54424900e-11],\n",
       "       [5.36998595e-12, 1.94676142e-11, 9.99996224e-01],\n",
       "       [9.99996368e-01, 1.82090556e-11, 4.92570440e-12],\n",
       "       [4.12671838e-11, 9.99992117e-01, 2.54424900e-11]])"
      ]
     },
     "execution_count": 5,
     "metadata": {},
     "output_type": "execute_result"
    }
   ],
   "source": [
    "model.predict_prob(X_test)[:5]"
   ]
  },
  {
   "cell_type": "markdown",
   "metadata": {},
   "source": [
    "#### 回归问题"
   ]
  },
  {
   "cell_type": "code",
   "execution_count": 6,
   "metadata": {},
   "outputs": [
    {
     "data": {
      "text/plain": [
       "array([-2.00345653, -2.84174188, -1.41273461, -2.08926275])"
      ]
     },
     "execution_count": 6,
     "metadata": {},
     "output_type": "execute_result"
    }
   ],
   "source": [
    "from sklearn.datasets import load_boston\n",
    "X,y=load_boston().data,load_boston().target\n",
    "X_train,X_test,y_train,y_test=train_test_split(X,y,test_size=0.3)\n",
    "model=GradientBoostingRegressor(n_estimators=150,random_state=7)\n",
    "model.fit(X_train,y_train)\n",
    "model.predict(X_test)[:4]"
   ]
  },
  {
   "cell_type": "code",
   "execution_count": 7,
   "metadata": {},
   "outputs": [
    {
     "data": {
      "text/plain": [
       "22.022674212762645"
      ]
     },
     "execution_count": 7,
     "metadata": {},
     "output_type": "execute_result"
    }
   ],
   "source": [
    "mean_absolute_error(model.predict(X_test),y_test)"
   ]
  },
  {
   "cell_type": "code",
   "execution_count": 8,
   "metadata": {},
   "outputs": [
    {
     "data": {
      "text/plain": [
       "2.279521379070383"
      ]
     },
     "execution_count": 8,
     "metadata": {},
     "output_type": "execute_result"
    }
   ],
   "source": [
    "from sklearn.ensemble import GradientBoostingRegressor as sklearn_GradientBoostingRegressor\n",
    "model=sklearn_GradientBoostingRegressor(n_estimators=50,random_state=7)\n",
    "model.fit(X_train,y_train)\n",
    "model.predict(X_test)\n",
    "mean_absolute_error(model.predict(X_test),y_test)"
   ]
  },
  {
   "cell_type": "code",
   "execution_count": null,
   "metadata": {},
   "outputs": [],
   "source": []
  }
 ],
 "metadata": {
  "kernelspec": {
   "display_name": "Python 3",
   "language": "python",
   "name": "python3"
  },
  "language_info": {
   "codemirror_mode": {
    "name": "ipython",
    "version": 3
   },
   "file_extension": ".py",
   "mimetype": "text/x-python",
   "name": "python",
   "nbconvert_exporter": "python",
   "pygments_lexer": "ipython3",
   "version": "3.6.8"
  }
 },
 "nbformat": 4,
 "nbformat_minor": 2
}
