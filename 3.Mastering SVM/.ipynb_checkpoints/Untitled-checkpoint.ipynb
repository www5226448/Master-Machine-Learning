{
 "cells": [
  {
   "cell_type": "code",
   "execution_count": 67,
   "metadata": {},
   "outputs": [],
   "source": [
    "class SVM:\n",
    "    def __init__(self, C=1, toler=0.001, kernel='linear',maxIter=2000):  # Initialize the structure with the parameters \n",
    "        self.C = C\n",
    "        self.tol = toler\n",
    "        self.b = 0\n",
    "        self.kernel='linear'\n",
    "        self.maxIter=maxIter\n",
    "        \n",
    "    def fit(self,X,y):\n",
    "        self.dataArray = X\n",
    "        self.classLabels = 2*y-1\n",
    "        self.m ,self.n= np.shape(X)\n",
    "        self.alphas = np.zeros((self.m,1))\n",
    "        self.eCache = np.zeros((self.m,2)) #first column is valid flag\n",
    "        self.K = np.zeros((self.m,self.m))\n",
    "        for i in range(self.m):\n",
    "            self.K[:,i] = type(self).kernelTrans(self.dataArray, self.dataArray[i], self.kernel)  #核函数不会更新，可以缓存\n",
    "            \n",
    "        return self\n",
    "        \n",
    "    def clipAlpha(aj,H,L):\n",
    "        'clip the alpha'\n",
    "        if aj > H: \n",
    "            aj = H\n",
    "        if L > aj:\n",
    "            aj = L\n",
    "        return aj\n",
    "\n",
    "    def selectJrand(i,m):\n",
    "        'Select any J not equal to i'\n",
    "        j=i \n",
    "        while (j==i):\n",
    "            j = int(np.random.uniform(0,m))\n",
    "        return j\n",
    "    \n",
    "    def kernelTrans(X, A, kernel): #calc the kernel or transform data to a higher dimensional space\n",
    "        m,n = np.shape(X)\n",
    "        K = np.zeros((m,1))\n",
    "        if kernel=='linear': K = X @ A.T   #linear kernel\n",
    "        elif kernel=='rbf':\n",
    "            for j in range(m):\n",
    "                deltaRow = X[j,:] - A\n",
    "                K[j] = deltaRow*deltaRow.T\n",
    "            K = exp(K/(-1*kTup[1]**2)) #divide in NumPy is element-wise not matrix like Matlab\n",
    "        else: \n",
    "            raise NameError('Houston We Have a Problem That Kernel is not recognized')\n",
    "        return K\n",
    "    \n",
    "    def calcEk(self, k):\n",
    "        fXk = np.sum(self.alphas*self.classLabels*self.K[:,k]) + self.b\n",
    "        Ek = fXk - float(self.classLabels[k])\n",
    "        return Ek\n",
    "    \n",
    "    def updateEk(self, k):#after any alpha has changed update the new value in the cache\n",
    "        Ek = self.calcEk(k)\n",
    "        self.eCache[k] = np.array([1,Ek])\n",
    "        \n",
    "    def smoP(self,dataMatIn, classLabels, C, toler, maxIter,kTup=('linear', 0)):    #full Platt SMO\n",
    "       # oS = optStruct(np.mat(dataMatIn),np.mat(classLabels).transpose(),C,toler, kTup)\n",
    "        iter = 0\n",
    "        entireSet = True; alphaPairsChanged = 0\n",
    "        while (iter < self.maxIter) and ((alphaPairsChanged > 0) or (entireSet)):\n",
    "            alphaPairsChanged = 0\n",
    "            if entireSet:   #go over all\n",
    "                for i in range(self..m):        \n",
    "                    alphaPairsChanged += innerL(self,i)\n",
    "                    #print \"fullSet, iter: %d i:%d, pairs changed %d\" % (iter,i,alphaPairsChanged)\n",
    "                iter += 1\n",
    "            else:#go over non-bound (railed) alphas\n",
    "                nonBoundIs = np.nonzero((self.alphas.A > 0) * (self.alphas.A < C))[0]\n",
    "                for i in nonBoundIs:\n",
    "                    alphaPairsChanged += innerL(self,i)\n",
    "                    #print \"non-bound, iter: %d i:%d, pairs changed %d\" % (iter,i,alphaPairsChanged)\n",
    "                iter += 1\n",
    "            if entireSet: entireSet = False #toggle entire set loop\n",
    "            elif (alphaPairsChanged == 0): entireSet = True  \n",
    "            #print \"iteration number: %d\" % iter\n",
    "        return self.b,self.alphas\n",
    "\n",
    "    \n",
    "\n",
    "    "
   ]
  },
  {
   "cell_type": "code",
   "execution_count": 68,
   "metadata": {},
   "outputs": [
    {
     "name": "stdout",
     "output_type": "stream",
     "text": [
      "<class 'numpy.float64'>\n",
      "1.0\n"
     ]
    }
   ],
   "source": [
    "import numpy as np\n",
    "from sklearn.datasets import load_breast_cancer\n",
    "from sklearn.model_selection import train_test_split\n",
    "X,y=load_breast_cancer().data,load_breast_cancer().target\n",
    "X_train,X_test,y_train,y_test=train_test_split(X,y,test_size=0.2,random_state=7)\n",
    "np.random.seed(88)\n",
    "SVM(C=0.001,kernel='linear').fit(X_train,y_train).updateEk(5)"
   ]
  },
  {
   "cell_type": "code",
   "execution_count": 24,
   "metadata": {},
   "outputs": [
    {
     "data": {
      "text/plain": [
       "(455,)"
      ]
     },
     "execution_count": 24,
     "metadata": {},
     "output_type": "execute_result"
    }
   ],
   "source": [
    "def kernelTrans(X, A, kTup='linear'): #calc the kernel or transform data to a higher dimensional space\n",
    "    m,n = np.shape(X)\n",
    "    K = np.mat(np.zeros((m,1)))\n",
    "    if kTup=='linear': K = X @A.T   #linear kernel\n",
    "    elif kTup=='rbf':\n",
    "        for j in range(m):\n",
    "            deltaRow = X[j,:] - A\n",
    "            K[j] = deltaRow*deltaRow.T\n",
    "        K = exp(K/(-1*kTup[1]**2)) #divide in NumPy is element-wise not matrix like Matlab\n",
    "    else: \n",
    "        raise NameError('Houston We Have a Problem That Kernel is not recognized')\n",
    "    return K\n",
    "kernelTrans(X_train,X_train[0]).shape"
   ]
  },
  {
   "cell_type": "code",
   "execution_count": 18,
   "metadata": {},
   "outputs": [
    {
     "data": {
      "text/plain": [
       "(455, 30)"
      ]
     },
     "execution_count": 18,
     "metadata": {},
     "output_type": "execute_result"
    }
   ],
   "source": [
    "X_train.shape"
   ]
  },
  {
   "cell_type": "code",
   "execution_count": 20,
   "metadata": {},
   "outputs": [
    {
     "data": {
      "text/plain": [
       "(30,)"
      ]
     },
     "execution_count": 20,
     "metadata": {},
     "output_type": "execute_result"
    }
   ],
   "source": [
    "X[0].shape"
   ]
  },
  {
   "cell_type": "code",
   "execution_count": null,
   "metadata": {},
   "outputs": [],
   "source": []
  }
 ],
 "metadata": {
  "kernelspec": {
   "display_name": "Python 3",
   "language": "python",
   "name": "python3"
  },
  "language_info": {
   "codemirror_mode": {
    "name": "ipython",
    "version": 3
   },
   "file_extension": ".py",
   "mimetype": "text/x-python",
   "name": "python",
   "nbconvert_exporter": "python",
   "pygments_lexer": "ipython3",
   "version": "3.6.8"
  }
 },
 "nbformat": 4,
 "nbformat_minor": 2
}
