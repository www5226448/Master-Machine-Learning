{
 "cells": [
  {
   "cell_type": "markdown",
   "metadata": {},
   "source": [
    "#### 使用Scipy求解SVM"
   ]
  },
  {
   "cell_type": "code",
   "execution_count": 1,
   "metadata": {},
   "outputs": [],
   "source": [
    "from scipy.optimize import minimize\n",
    "import numpy as np\n",
    "class SVM:\n",
    "    def __init__(self,C=0.001):\n",
    "        self.c=C\n",
    "        \n",
    "    def fit(self,X,y):\n",
    "        y=2*y-1\n",
    "        m,n=X.shape\n",
    "        unknow_vector=np.random.randn(m+n+1)\n",
    "        print(len(unknow_vector))\n",
    "        self.solver=minimize(type(self).minimize_object,unknow_vector,args=(X,y,self.c),\n",
    "              constraints=({'type': 'ineq', 'args': (X,y),\n",
    "                            'fun':lambda unknow_vector,X,y:type(self).constraint1(unknow_vector,X,y)},\n",
    "                           {'type': 'ineq', 'args': (y,),'fun':lambda unknow_vector,y:type(self).constraint2(unknow_vector,y)}                         \n",
    "             ))\n",
    "        self.coef_=self.solver.x[:n]\n",
    "        self.intercept_=self.solver.x[n]\n",
    "        self.beta_=self.solver.x[n+1:]\n",
    "        \n",
    "        self.support_value=y*(np.dot(X,self.coef_.T)+self.intercept_)+self.beta_\n",
    "        self.support_=np.where(self.support_value<=1.0001)\n",
    "        self.support_vectors_=X[self.support_]\n",
    "           \n",
    "        return self\n",
    "    \n",
    "    def predict(self,X):\n",
    "        m,n=X.shape\n",
    "        X_=np.full((m,1),fill_value=1)\n",
    "        X=np.concatenate([X,X_],axis=1)\n",
    "        pred=X@self.solver.x[:n+1]\n",
    "        return (np.sign(pred)+1)/2\n",
    "        \n",
    "    \n",
    "    \n",
    "    def minimize_object(unknow_vector,X,y,c):\n",
    "        m,n=X.shape\n",
    "        w=unknow_vector[:n]  \n",
    "        b=unknow_vector[n]   \n",
    "        beta=unknow_vector[n+1:]\n",
    "        object_value=0.5*np.sum(w**2)+c*np.sum(beta)\n",
    "        return object_value\n",
    "\n",
    "    def constraint1(unknow_vector,X,y):\n",
    "        m,n=X.shape\n",
    "        w=unknow_vector[:n]\n",
    "        b=unknow_vector[n]\n",
    "        beta=unknow_vector[n+1:]\n",
    "        return y*(X@w.T+b)+beta-1\n",
    "\n",
    "    def constraint2(unknow_vector,y):\n",
    "        n=len(y)\n",
    "        beta=unknow_vector[n+1:]    \n",
    "        return beta"
   ]
  },
  {
   "cell_type": "code",
   "execution_count": 2,
   "metadata": {},
   "outputs": [
    {
     "name": "stdout",
     "output_type": "stream",
     "text": [
      "429\n"
     ]
    },
    {
     "data": {
      "text/plain": [
       "array([0., 1., 1., 0., 1., 1., 1., 1., 1., 1., 1., 1., 0., 1., 1., 1., 1.,\n",
       "       0., 0., 1., 0., 0., 1., 1., 0., 1., 1., 0., 1., 1., 1., 0., 1., 1.,\n",
       "       1., 1., 1., 1., 0., 1., 1., 1., 1., 1., 1., 1., 1., 1., 0., 1., 1.,\n",
       "       1., 0., 1., 0., 1., 0., 1., 0., 0., 1., 0., 0., 1., 0., 1., 0., 1.,\n",
       "       0., 1., 0., 0., 1., 0., 0., 1., 1., 1., 1., 0., 0., 1., 1., 1., 1.,\n",
       "       0., 0., 0., 1., 0., 0., 1., 1., 1., 0., 1., 1., 1., 1., 1., 1., 0.,\n",
       "       1., 1., 1., 1., 1., 0., 1., 1., 1., 0., 0., 0., 1., 1., 1., 1., 1.,\n",
       "       0., 0., 1., 0., 1., 1., 0., 0., 0., 1., 1., 0., 1., 0., 1., 0., 1.,\n",
       "       0., 0., 1., 0., 0., 1., 0., 0., 1., 1., 1., 1., 1., 0., 0., 1., 1.,\n",
       "       0., 1., 1., 1., 1., 0., 1., 1., 0., 1., 1., 1., 1., 1., 0., 1., 0.,\n",
       "       0.])"
      ]
     },
     "execution_count": 2,
     "metadata": {},
     "output_type": "execute_result"
    }
   ],
   "source": [
    "from sklearn.datasets import load_breast_cancer\n",
    "from sklearn.metrics import accuracy_score\n",
    "from sklearn.model_selection import train_test_split\n",
    "\n",
    "X,y=load_breast_cancer().data,load_breast_cancer().target\n",
    "X_train,X_test,y_train,y_test=train_test_split(X,y,test_size=0.3)\n",
    "my_svm=SVM(C=0.00001).fit(X_train,y_train)\n",
    "pred=my_svm.predict(X_test)\n",
    "pred"
   ]
  },
  {
   "cell_type": "code",
   "execution_count": 3,
   "metadata": {},
   "outputs": [
    {
     "data": {
      "text/plain": [
       "0.9298245614035088"
      ]
     },
     "execution_count": 3,
     "metadata": {},
     "output_type": "execute_result"
    }
   ],
   "source": [
    "accuracy_score(y_test,pred)"
   ]
  },
  {
   "cell_type": "code",
   "execution_count": 4,
   "metadata": {},
   "outputs": [
    {
     "data": {
      "text/plain": [
       "array([[1.460e+01, 2.329e+01, 9.397e+01, 6.647e+02, 8.682e-02, 6.636e-02,\n",
       "        8.390e-02, 5.271e-02, 1.627e-01, 5.416e-02, 4.157e-01, 1.627e+00,\n",
       "        2.914e+00, 3.301e+01, 8.312e-03, 1.742e-02, 3.389e-02, 1.576e-02,\n",
       "        1.740e-02, 2.871e-03, 1.579e+01, 3.171e+01, 1.022e+02, 7.582e+02,\n",
       "        1.312e-01, 1.581e-01, 2.675e-01, 1.359e-01, 2.477e-01, 6.836e-02],\n",
       "       [1.340e+01, 2.052e+01, 8.864e+01, 5.567e+02, 1.106e-01, 1.469e-01,\n",
       "        1.445e-01, 8.172e-02, 2.116e-01, 7.325e-02, 3.906e-01, 9.306e-01,\n",
       "        3.093e+00, 3.367e+01, 5.414e-03, 2.265e-02, 3.452e-02, 1.334e-02,\n",
       "        1.705e-02, 4.005e-03, 1.641e+01, 2.966e+01, 1.133e+02, 8.444e+02,\n",
       "        1.574e-01, 3.856e-01, 5.106e-01, 2.051e-01, 3.585e-01, 1.109e-01],\n",
       "       [1.108e+01, 1.883e+01, 7.330e+01, 3.616e+02, 1.216e-01, 2.154e-01,\n",
       "        1.689e-01, 6.367e-02, 2.196e-01, 7.950e-02, 2.114e-01, 1.027e+00,\n",
       "        1.719e+00, 1.399e+01, 7.405e-03, 4.549e-02, 4.588e-02, 1.339e-02,\n",
       "        1.738e-02, 4.435e-03, 1.324e+01, 3.282e+01, 9.176e+01, 5.081e+02,\n",
       "        2.184e-01, 9.379e-01, 8.402e-01, 2.524e-01, 4.154e-01, 1.403e-01],\n",
       "       [1.499e+01, 2.520e+01, 9.554e+01, 6.988e+02, 9.387e-02, 5.131e-02,\n",
       "        2.398e-02, 2.899e-02, 1.565e-01, 5.504e-02, 1.214e+00, 2.188e+00,\n",
       "        8.077e+00, 1.060e+02, 6.883e-03, 1.094e-02, 1.818e-02, 1.917e-02,\n",
       "        7.882e-03, 1.754e-03, 1.499e+01, 2.520e+01, 9.554e+01, 6.988e+02,\n",
       "        9.387e-02, 5.131e-02, 2.398e-02, 2.899e-02, 1.565e-01, 5.504e-02],\n",
       "       [1.346e+01, 1.875e+01, 8.744e+01, 5.511e+02, 1.075e-01, 1.138e-01,\n",
       "        4.201e-02, 3.152e-02, 1.723e-01, 6.317e-02, 1.998e-01, 6.068e-01,\n",
       "        1.443e+00, 1.607e+01, 4.413e-03, 1.443e-02, 1.509e-02, 7.369e-03,\n",
       "        1.354e-02, 1.787e-03, 1.535e+01, 2.516e+01, 1.019e+02, 7.198e+02,\n",
       "        1.624e-01, 3.124e-01, 2.654e-01, 1.427e-01, 3.518e-01, 8.665e-02],\n",
       "       [1.246e+01, 2.404e+01, 8.397e+01, 4.759e+02, 1.186e-01, 2.396e-01,\n",
       "        2.273e-01, 8.543e-02, 2.030e-01, 8.243e-02, 2.976e-01, 1.599e+00,\n",
       "        2.039e+00, 2.394e+01, 7.149e-03, 7.217e-02, 7.743e-02, 1.432e-02,\n",
       "        1.789e-02, 1.008e-02, 1.509e+01, 4.068e+01, 9.765e+01, 7.114e+02,\n",
       "        1.853e-01, 1.058e+00, 1.105e+00, 2.210e-01, 4.366e-01, 2.075e-01],\n",
       "       [1.617e+01, 1.607e+01, 1.063e+02, 7.885e+02, 9.880e-02, 1.438e-01,\n",
       "        6.651e-02, 5.397e-02, 1.990e-01, 6.572e-02, 1.745e-01, 4.890e-01,\n",
       "        1.349e+00, 1.491e+01, 4.510e-03, 1.812e-02, 1.951e-02, 1.196e-02,\n",
       "        1.934e-02, 3.696e-03, 1.697e+01, 1.914e+01, 1.131e+02, 8.615e+02,\n",
       "        1.235e-01, 2.550e-01, 2.114e-01, 1.251e-01, 3.153e-01, 8.960e-02],\n",
       "       [1.402e+01, 1.566e+01, 8.959e+01, 6.065e+02, 7.966e-02, 5.581e-02,\n",
       "        2.087e-02, 2.652e-02, 1.589e-01, 5.586e-02, 2.142e-01, 6.549e-01,\n",
       "        1.606e+00, 1.925e+01, 4.837e-03, 9.238e-03, 9.213e-03, 1.076e-02,\n",
       "        1.171e-02, 2.104e-03, 1.491e+01, 1.931e+01, 9.653e+01, 6.889e+02,\n",
       "        1.034e-01, 1.017e-01, 6.260e-02, 8.216e-02, 2.136e-01, 6.710e-02],\n",
       "       [1.427e+01, 2.255e+01, 9.377e+01, 6.298e+02, 1.038e-01, 1.154e-01,\n",
       "        1.463e-01, 6.139e-02, 1.926e-01, 5.982e-02, 2.027e-01, 1.851e+00,\n",
       "        1.895e+00, 1.854e+01, 6.113e-03, 2.583e-02, 4.645e-02, 1.276e-02,\n",
       "        1.451e-02, 3.756e-03, 1.529e+01, 3.427e+01, 1.043e+02, 7.283e+02,\n",
       "        1.380e-01, 2.733e-01, 4.234e-01, 1.362e-01, 2.698e-01, 8.351e-02]])"
      ]
     },
     "execution_count": 4,
     "metadata": {},
     "output_type": "execute_result"
    }
   ],
   "source": [
    "my_svm.support_vectors_"
   ]
  },
  {
   "cell_type": "code",
   "execution_count": null,
   "metadata": {},
   "outputs": [],
   "source": []
  }
 ],
 "metadata": {
  "kernelspec": {
   "display_name": "Python 3",
   "language": "python",
   "name": "python3"
  },
  "language_info": {
   "codemirror_mode": {
    "name": "ipython",
    "version": 3
   },
   "file_extension": ".py",
   "mimetype": "text/x-python",
   "name": "python",
   "nbconvert_exporter": "python",
   "pygments_lexer": "ipython3",
   "version": "3.6.4"
  }
 },
 "nbformat": 4,
 "nbformat_minor": 2
}
