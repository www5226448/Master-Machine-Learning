{
 "cells": [
  {
   "cell_type": "markdown",
   "metadata": {},
   "source": [
    "#### 使用Scipy求解SVM"
   ]
  },
  {
   "cell_type": "code",
   "execution_count": 1,
   "metadata": {},
   "outputs": [],
   "source": [
    "from scipy.optimize import minimize\n",
    "import numpy as np\n",
    "class SVM:\n",
    "    def __init__(self,C=0.001):\n",
    "        self.c=C\n",
    "        self.relaxation_type='ineq'\n",
    "        if self.c==0:\n",
    "            self.relaxation_type='eq'\n",
    "        \n",
    "    def fit(self,X,y):\n",
    "        y=2*y-1\n",
    "        m,n=X.shape\n",
    "        unknow_vector=np.ones(m+n+1)/(m+n+1)\n",
    "        \n",
    "        self.solver=minimize(type(self).minimize_object,unknow_vector,args=(X,y,self.c),\n",
    "              constraints=({'type': 'ineq', 'args': (X,y),\n",
    "                            'fun':lambda unknow_vector,X,y:type(self).linear_onstraint(unknow_vector,X,y)},\n",
    "                           {'type':self.relaxation_type, 'args': (y,),'fun':lambda unknow_vector,y:type(self).relaxation_constraint(unknow_vector,y)}                         \n",
    "             ))\n",
    "        self.coef_=self.solver.x[:n]\n",
    "        self.intercept_=b=self.solver.x[n]\n",
    "        self.beta_=self.solver.x[n+1:]\n",
    "        \n",
    "        self.support_value=y*(np.dot(X,self.coef_.T)+self.intercept_)+self.beta_\n",
    "        self.support_=np.where(self.support_value<=1.01)\n",
    "        self.support_vectors_=X[self.support_]\n",
    "           \n",
    "        return self\n",
    "    \n",
    "    def predict(self,X):\n",
    "        pred=X@self.coef_+self.intercept_\n",
    "        return (np.sign(pred)+1)/2\n",
    "        \n",
    "    \n",
    "    \n",
    "    def minimize_object(unknow_vector,X,y,c):\n",
    "        m,n=X.shape\n",
    "        w=unknow_vector[:n]  \n",
    "        b=unknow_vector[n]   \n",
    "        beta=unknow_vector[n+1:]\n",
    "        object_value=0.5*np.sum(w**2)+c*np.sum(beta)\n",
    "        return object_value\n",
    "\n",
    "    def linear_onstraint(unknow_vector,X,y):\n",
    "        m,n=X.shape\n",
    "        w=unknow_vector[:n]\n",
    "        b=unknow_vector[n]\n",
    "        beta=unknow_vector[n+1:]\n",
    "        return y*(X@w.T+b)+beta-1\n",
    "\n",
    "    def relaxation_constraint(unknow_vector,y):\n",
    "        n=len(y)\n",
    "        beta=unknow_vector[n+1:]    \n",
    "        return beta"
   ]
  },
  {
   "cell_type": "code",
   "execution_count": 5,
   "metadata": {},
   "outputs": [
    {
     "data": {
      "text/plain": [
       "array([1., 1., 1., 0., 0., 1., 1., 1., 1., 0., 1., 1., 0., 1., 0., 1., 1.,\n",
       "       1., 1., 0., 1., 1., 0., 1., 1., 1., 0., 0., 0., 0., 1., 1., 1., 1.,\n",
       "       1., 1., 1., 1., 1., 0., 1., 1., 0., 1., 1., 1., 1., 0., 1., 1., 0.,\n",
       "       1., 0., 1., 1., 0., 1., 1., 1., 0., 1., 1., 1., 1., 0., 1., 0., 0.,\n",
       "       1., 1., 1., 0., 1., 1., 1., 1., 0., 1., 1., 1., 1., 1., 0., 0., 1.,\n",
       "       1., 1., 0., 1., 1., 1., 1., 1., 1., 0., 1., 1., 1., 0., 1., 1., 1.,\n",
       "       0., 0., 1., 1., 1., 1., 1., 1., 1., 0., 0., 0., 0., 1., 1., 0., 0.,\n",
       "       0., 1., 1., 1., 1., 1., 1., 1., 1., 1., 0., 0., 0., 1., 1., 1., 0.,\n",
       "       0., 0., 1., 1., 1., 1., 1., 1., 1., 0., 1., 1., 1., 1., 0., 1., 1.,\n",
       "       0., 0., 0., 1., 0., 1., 1., 0., 1., 0., 0., 0., 0., 1., 0., 1., 1.,\n",
       "       1.])"
      ]
     },
     "execution_count": 5,
     "metadata": {},
     "output_type": "execute_result"
    }
   ],
   "source": [
    "from sklearn.datasets import load_breast_cancer\n",
    "from sklearn.metrics import accuracy_score\n",
    "from sklearn.model_selection import train_test_split\n",
    "\n",
    "X,y=load_breast_cancer().data,load_breast_cancer().target\n",
    "X_train,X_test,y_train,y_test=train_test_split(X,y,test_size=0.3)\n",
    "my_svm=SVM(C=0.).fit(X_train,y_train)\n",
    "pred=my_svm.predict(X_test)\n",
    "pred"
   ]
  },
  {
   "cell_type": "code",
   "execution_count": 6,
   "metadata": {},
   "outputs": [
    {
     "data": {
      "text/plain": [
       "0.8771929824561403"
      ]
     },
     "execution_count": 6,
     "metadata": {},
     "output_type": "execute_result"
    }
   ],
   "source": [
    "accuracy_score(y_test,pred)"
   ]
  },
  {
   "cell_type": "code",
   "execution_count": 7,
   "metadata": {},
   "outputs": [
    {
     "data": {
      "text/plain": [
       "array([[2.811e+01, 1.847e+01, 1.885e+02, 2.499e+03, 1.142e-01, 1.516e-01,\n",
       "        3.201e-01, 1.595e-01, 1.648e-01, 5.525e-02, 2.873e+00, 1.476e+00,\n",
       "        2.198e+01, 5.256e+02, 1.345e-02, 2.772e-02, 6.389e-02, 1.407e-02,\n",
       "        4.783e-02, 4.476e-03, 2.811e+01, 1.847e+01, 1.885e+02, 2.499e+03,\n",
       "        1.142e-01, 1.516e-01, 3.201e-01, 1.595e-01, 1.648e-01, 5.525e-02],\n",
       "       [1.917e+01, 2.480e+01, 1.324e+02, 1.123e+03, 9.740e-02, 2.458e-01,\n",
       "        2.065e-01, 1.118e-01, 2.397e-01, 7.800e-02, 9.555e-01, 3.568e+00,\n",
       "        1.107e+01, 1.162e+02, 3.139e-03, 8.297e-02, 8.890e-02, 4.090e-02,\n",
       "        4.484e-02, 1.284e-02, 2.096e+01, 2.994e+01, 1.517e+02, 1.332e+03,\n",
       "        1.037e-01, 3.903e-01, 3.639e-01, 1.767e-01, 3.176e-01, 1.023e-01],\n",
       "       [1.791e+01, 2.102e+01, 1.244e+02, 9.940e+02, 1.230e-01, 2.576e-01,\n",
       "        3.189e-01, 1.198e-01, 2.113e-01, 7.115e-02, 4.030e-01, 7.747e-01,\n",
       "        3.123e+00, 4.151e+01, 7.159e-03, 3.718e-02, 6.165e-02, 1.051e-02,\n",
       "        1.591e-02, 5.099e-03, 2.080e+01, 2.778e+01, 1.496e+02, 1.304e+03,\n",
       "        1.873e-01, 5.917e-01, 9.034e-01, 1.964e-01, 3.245e-01, 1.198e-01],\n",
       "       [1.095e+01, 2.135e+01, 7.190e+01, 3.711e+02, 1.227e-01, 1.218e-01,\n",
       "        1.044e-01, 5.669e-02, 1.895e-01, 6.870e-02, 2.366e-01, 1.428e+00,\n",
       "        1.822e+00, 1.697e+01, 8.064e-03, 1.764e-02, 2.595e-02, 1.037e-02,\n",
       "        1.357e-02, 3.040e-03, 1.284e+01, 3.534e+01, 8.722e+01, 5.140e+02,\n",
       "        1.909e-01, 2.698e-01, 4.023e-01, 1.424e-01, 2.964e-01, 9.606e-02],\n",
       "       [1.225e+01, 2.244e+01, 7.818e+01, 4.665e+02, 8.192e-02, 5.200e-02,\n",
       "        1.714e-02, 1.261e-02, 1.544e-01, 5.976e-02, 2.239e-01, 1.139e+00,\n",
       "        1.577e+00, 1.804e+01, 5.096e-03, 1.205e-02, 9.410e-03, 4.551e-03,\n",
       "        1.608e-02, 2.399e-03, 1.417e+01, 3.199e+01, 9.274e+01, 6.229e+02,\n",
       "        1.256e-01, 1.804e-01, 1.230e-01, 6.335e-02, 3.100e-01, 8.203e-02]])"
      ]
     },
     "execution_count": 7,
     "metadata": {},
     "output_type": "execute_result"
    }
   ],
   "source": [
    "my_svm.support_vectors_"
   ]
  },
  {
   "cell_type": "code",
   "execution_count": null,
   "metadata": {},
   "outputs": [],
   "source": []
  }
 ],
 "metadata": {
  "kernelspec": {
   "display_name": "Python 3",
   "language": "python",
   "name": "python3"
  },
  "language_info": {
   "codemirror_mode": {
    "name": "ipython",
    "version": 3
   },
   "file_extension": ".py",
   "mimetype": "text/x-python",
   "name": "python",
   "nbconvert_exporter": "python",
   "pygments_lexer": "ipython3",
   "version": "3.6.8"
  }
 },
 "nbformat": 4,
 "nbformat_minor": 2
}
