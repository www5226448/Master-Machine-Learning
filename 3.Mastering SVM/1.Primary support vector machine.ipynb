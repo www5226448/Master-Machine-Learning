{
 "cells": [
  {
   "cell_type": "markdown",
   "metadata": {},
   "source": [
    "#### 使用Scipy求解SVM"
   ]
  },
  {
   "cell_type": "code",
   "execution_count": 1,
   "metadata": {},
   "outputs": [],
   "source": [
    "from scipy.optimize import minimize\n",
    "import numpy as np\n",
    "class SVM:\n",
    "    def __init__(self,C=0.001,tol=1e-4):\n",
    "        self.c=C\n",
    "        self.relaxation_type='eq' if C==0 else 'ineq'\n",
    "        self.tol=tol\n",
    "        \n",
    "    def fit(self,X,y):\n",
    "        y=2*y-1\n",
    "        m,n=X.shape\n",
    "        unknow_vector=np.ones(m+n+1)/(m+n+1)\n",
    "        \n",
    "        self.solver=minimize(self.minimize_object,\n",
    "                             unknow_vector,args=(X,y,self.c),\n",
    "              constraints=({'type': 'ineq', 'args': (X,y),\n",
    "                            'fun':lambda unknow_vector,X,\n",
    "                            y:self.linear_onstraint(unknow_vector,X,y)},\n",
    "                           {'type':self.relaxation_type, \n",
    "                            'args': (y,),'fun':lambda unknow_vector,\n",
    "                            y:self.relaxation_constraint(unknow_vector,y)}                         \n",
    "             ))\n",
    "        self.coef_=self.solver.x[:n]\n",
    "        self.intercept_=b=self.solver.x[n]\n",
    "        self.beta_=self.solver.x[n+1:]\n",
    "        \n",
    "        self.support_value=y*(np.dot(X,self.coef_.T)+self.intercept_)+self.beta_\n",
    "        self.support_=np.where(self.support_value<=1+self.tol)\n",
    "        self.support_vectors_=X[self.support_]\n",
    "           \n",
    "        return self\n",
    "    \n",
    "    def predict(self,X):\n",
    "        pred=X@self.coef_+self.intercept_\n",
    "        return (np.sign(pred)+1)/2\n",
    "        \n",
    "    \n",
    "    \n",
    "    @staticmethod\n",
    "    def minimize_object(unknow_vector,X,y,c):\n",
    "        m,n=X.shape\n",
    "        w=unknow_vector[:n]  \n",
    "        b=unknow_vector[n]   \n",
    "        beta=unknow_vector[n+1:]\n",
    "        object_value=0.5*np.sum(w**2)+c*np.sum(beta)\n",
    "        return object_value\n",
    "    \n",
    "    @staticmethod\n",
    "    def linear_onstraint(unknow_vector,X,y):\n",
    "        m,n=X.shape\n",
    "        w=unknow_vector[:n]\n",
    "        b=unknow_vector[n]\n",
    "        beta=unknow_vector[n+1:]\n",
    "        return y*(X@w.T+b)+beta-1\n",
    "    \n",
    "    @staticmethod\n",
    "    def relaxation_constraint(unknow_vector,y):\n",
    "        n=len(y)\n",
    "        beta=unknow_vector[n+1:]    \n",
    "        return beta"
   ]
  },
  {
   "cell_type": "code",
   "execution_count": 2,
   "metadata": {},
   "outputs": [
    {
     "data": {
      "text/plain": [
       "array([0., 1., 0., 1., 1., 0., 1., 0., 0., 0., 1., 0., 1., 0., 1., 0., 1.,\n",
       "       0., 1., 1., 0., 0., 1., 1., 0., 1., 0., 0., 1., 0., 1., 1., 1., 1.,\n",
       "       1., 1., 1., 0., 1., 1., 0., 1., 0., 1., 0., 1., 1., 0., 0., 1., 1.,\n",
       "       1., 1., 1., 0., 1., 1., 0., 1., 1., 1., 1., 1., 1., 0., 0., 0., 0.,\n",
       "       1., 0., 1., 1., 1., 0., 1., 0., 1., 0., 1., 1., 1., 1., 1., 0., 0.,\n",
       "       0., 0., 1., 1., 1., 1., 0., 1., 0., 0., 1., 1., 1., 1., 1., 1., 1.,\n",
       "       1., 1., 0., 1., 1., 0., 1., 1., 1., 1., 0., 1., 0., 0., 0., 1., 0.,\n",
       "       0., 1., 1., 1., 1., 0., 0., 0., 1., 0., 1., 1., 1., 1., 0., 0., 1.,\n",
       "       0., 1., 1., 1., 0., 0., 1., 1., 0., 1., 0., 1., 1., 0., 1., 1., 1.,\n",
       "       1., 1., 0., 1., 1., 0., 1., 1., 1., 1., 1., 1., 0., 0., 1., 0., 1.,\n",
       "       1.])"
      ]
     },
     "execution_count": 2,
     "metadata": {},
     "output_type": "execute_result"
    }
   ],
   "source": [
    "from sklearn.datasets import load_breast_cancer\n",
    "from sklearn.metrics import accuracy_score\n",
    "from sklearn.model_selection import train_test_split\n",
    "\n",
    "X,y=load_breast_cancer().data,load_breast_cancer().target\n",
    "X_train,X_test,y_train,y_test=train_test_split(X,y,test_size=0.3)\n",
    "my_svm=SVM(C=1).fit(X_train,y_train)\n",
    "pred=my_svm.predict(X_test)\n",
    "pred"
   ]
  },
  {
   "cell_type": "code",
   "execution_count": 3,
   "metadata": {},
   "outputs": [
    {
     "data": {
      "text/plain": [
       "0.9298245614035088"
      ]
     },
     "execution_count": 3,
     "metadata": {},
     "output_type": "execute_result"
    }
   ],
   "source": [
    "accuracy_score(y_test,pred)"
   ]
  },
  {
   "cell_type": "code",
   "execution_count": 4,
   "metadata": {},
   "outputs": [
    {
     "data": {
      "text/plain": [
       "(array([ 9, 46, 63]),)"
      ]
     },
     "execution_count": 4,
     "metadata": {},
     "output_type": "execute_result"
    }
   ],
   "source": [
    "my_svm.support_"
   ]
  },
  {
   "cell_type": "code",
   "execution_count": 5,
   "metadata": {},
   "outputs": [
    {
     "data": {
      "text/plain": [
       "array([-0.21180606,  0.94134681,  0.39603054])"
      ]
     },
     "execution_count": 5,
     "metadata": {},
     "output_type": "execute_result"
    }
   ],
   "source": [
    "my_svm.support_value[my_svm.support_value<1.0001]"
   ]
  }
 ],
 "metadata": {
  "kernelspec": {
   "display_name": "Python 3",
   "language": "python",
   "name": "python3"
  },
  "language_info": {
   "codemirror_mode": {
    "name": "ipython",
    "version": 3
   },
   "file_extension": ".py",
   "mimetype": "text/x-python",
   "name": "python",
   "nbconvert_exporter": "python",
   "pygments_lexer": "ipython3",
   "version": "3.6.9"
  }
 },
 "nbformat": 4,
 "nbformat_minor": 2
}
