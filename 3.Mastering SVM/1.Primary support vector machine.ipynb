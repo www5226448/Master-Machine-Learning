{
 "cells": [
  {
   "cell_type": "markdown",
   "metadata": {},
   "source": [
    "#### 使用Scipy求解SVM"
   ]
  },
  {
   "cell_type": "code",
   "execution_count": 1,
   "metadata": {},
   "outputs": [],
   "source": [
    "from scipy.optimize import minimize\n",
    "import numpy as np\n",
    "class SVM:\n",
    "    def __init__(self,C=0.001):\n",
    "        self.c=C\n",
    "        \n",
    "    def fit(self,X,y):\n",
    "        y=2*y-1\n",
    "        m,n=X.shape\n",
    "        unknow_vector=np.ones(m+n+1)/(m+n+1)\n",
    "        \n",
    "        self.solver=minimize(type(self).minimize_object,unknow_vector,args=(X,y,self.c),\n",
    "              constraints=({'type': 'ineq', 'args': (X,y),\n",
    "                            'fun':lambda unknow_vector,X,y:type(self).linear_onstraint(unknow_vector,X,y)},\n",
    "                           {'type': 'ineq', 'args': (y,),'fun':lambda unknow_vector,y:type(self).relaxation_constraint(unknow_vector,y)}                         \n",
    "             ))\n",
    "        self.coef_=self.solver.x[:n]\n",
    "        self.intercept_=b=self.solver.x[n]\n",
    "        self.beta_=self.solver.x[n+1:]\n",
    "        \n",
    "        self.support_value=y*(np.dot(X,self.coef_.T)+self.intercept_)+self.beta_\n",
    "        self.support_=np.where(self.support_value<=1.01)\n",
    "        self.support_vectors_=X[self.support_]\n",
    "           \n",
    "        return self\n",
    "    \n",
    "    def predict(self,X):\n",
    "        pred=X@self.coef_+self.intercept_\n",
    "        return (np.sign(pred)+1)/2\n",
    "        \n",
    "    \n",
    "    \n",
    "    def minimize_object(unknow_vector,X,y,c):\n",
    "        m,n=X.shape\n",
    "        w=unknow_vector[:n]  \n",
    "        b=unknow_vector[n]   \n",
    "        beta=unknow_vector[n+1:]\n",
    "        object_value=0.5*np.sum(w**2)+c*np.sum(beta)\n",
    "        return object_value\n",
    "\n",
    "    def linear_onstraint(unknow_vector,X,y):\n",
    "        m,n=X.shape\n",
    "        w=unknow_vector[:n]\n",
    "        b=unknow_vector[n]\n",
    "        beta=unknow_vector[n+1:]\n",
    "        return y*(X@w.T+b)+beta-1\n",
    "\n",
    "    def relaxation_constraint(unknow_vector,y):\n",
    "        n=len(y)\n",
    "        beta=unknow_vector[n+1:]    \n",
    "        return beta"
   ]
  },
  {
   "cell_type": "code",
   "execution_count": 2,
   "metadata": {},
   "outputs": [
    {
     "data": {
      "text/plain": [
       "array([1., 0., 1., 1., 1., 0., 1., 1., 1., 1., 1., 1., 1., 0., 1., 0., 0.,\n",
       "       0., 0., 1., 1., 1., 1., 0., 0., 1., 0., 0., 1., 1., 0., 0., 1., 0.,\n",
       "       1., 0., 1., 0., 1., 0., 0., 0., 1., 1., 0., 0., 1., 1., 1., 1., 1.,\n",
       "       1., 1., 1., 1., 1., 1., 1., 1., 1., 0., 1., 0., 1., 0., 1., 1., 1.,\n",
       "       1., 1., 1., 0., 1., 1., 0., 1., 1., 1., 1., 0., 0., 1., 1., 1., 0.,\n",
       "       0., 1., 1., 0., 1., 0., 1., 1., 0., 1., 1., 0., 1., 1., 0., 1., 1.,\n",
       "       1., 1., 0., 1., 1., 0., 0., 1., 0., 1., 1., 1., 0., 0., 1., 1., 0.,\n",
       "       1., 0., 1., 1., 1., 1., 1., 1., 0., 1., 1., 1., 0., 1., 1., 1., 0.,\n",
       "       1., 0., 1., 0., 0., 1., 1., 1., 1., 1., 1., 1., 0., 0., 1., 1., 0.,\n",
       "       1., 1., 1., 1., 1., 1., 1., 0., 0., 0., 0., 1., 1., 0., 1., 0., 0.,\n",
       "       1.])"
      ]
     },
     "execution_count": 2,
     "metadata": {},
     "output_type": "execute_result"
    }
   ],
   "source": [
    "from sklearn.datasets import load_breast_cancer\n",
    "from sklearn.metrics import accuracy_score\n",
    "from sklearn.model_selection import train_test_split\n",
    "\n",
    "X,y=load_breast_cancer().data,load_breast_cancer().target\n",
    "X_train,X_test,y_train,y_test=train_test_split(X,y,test_size=0.3)\n",
    "my_svm=SVM(C=0.00001).fit(X_train,y_train)\n",
    "pred=my_svm.predict(X_test)\n",
    "pred"
   ]
  },
  {
   "cell_type": "code",
   "execution_count": 3,
   "metadata": {},
   "outputs": [
    {
     "data": {
      "text/plain": [
       "0.9122807017543859"
      ]
     },
     "execution_count": 3,
     "metadata": {},
     "output_type": "execute_result"
    }
   ],
   "source": [
    "accuracy_score(y_test,pred)"
   ]
  },
  {
   "cell_type": "code",
   "execution_count": 4,
   "metadata": {},
   "outputs": [
    {
     "data": {
      "text/plain": [
       "array([[1.377e+01, 2.229e+01, 9.063e+01, 5.889e+02, 1.200e-01, 1.267e-01,\n",
       "        1.385e-01, 6.526e-02, 1.834e-01, 6.877e-02, 6.191e-01, 2.112e+00,\n",
       "        4.906e+00, 4.970e+01, 1.380e-02, 3.348e-02, 4.665e-02, 2.060e-02,\n",
       "        2.689e-02, 4.306e-03, 1.639e+01, 3.401e+01, 1.116e+02, 8.069e+02,\n",
       "        1.737e-01, 3.122e-01, 3.809e-01, 1.673e-01, 3.080e-01, 9.333e-02],\n",
       "       [1.486e+01, 1.694e+01, 9.489e+01, 6.737e+02, 8.924e-02, 7.074e-02,\n",
       "        3.346e-02, 2.877e-02, 1.573e-01, 5.703e-02, 3.028e-01, 6.683e-01,\n",
       "        1.612e+00, 2.392e+01, 5.756e-03, 1.665e-02, 1.461e-02, 8.281e-03,\n",
       "        1.551e-02, 2.168e-03, 1.631e+01, 2.054e+01, 1.023e+02, 7.775e+02,\n",
       "        1.218e-01, 1.550e-01, 1.220e-01, 7.971e-02, 2.525e-01, 6.827e-02],\n",
       "       [1.246e+01, 2.404e+01, 8.397e+01, 4.759e+02, 1.186e-01, 2.396e-01,\n",
       "        2.273e-01, 8.543e-02, 2.030e-01, 8.243e-02, 2.976e-01, 1.599e+00,\n",
       "        2.039e+00, 2.394e+01, 7.149e-03, 7.217e-02, 7.743e-02, 1.432e-02,\n",
       "        1.789e-02, 1.008e-02, 1.509e+01, 4.068e+01, 9.765e+01, 7.114e+02,\n",
       "        1.853e-01, 1.058e+00, 1.105e+00, 2.210e-01, 4.366e-01, 2.075e-01],\n",
       "       [1.460e+01, 2.329e+01, 9.397e+01, 6.647e+02, 8.682e-02, 6.636e-02,\n",
       "        8.390e-02, 5.271e-02, 1.627e-01, 5.416e-02, 4.157e-01, 1.627e+00,\n",
       "        2.914e+00, 3.301e+01, 8.312e-03, 1.742e-02, 3.389e-02, 1.576e-02,\n",
       "        1.740e-02, 2.871e-03, 1.579e+01, 3.171e+01, 1.022e+02, 7.582e+02,\n",
       "        1.312e-01, 1.581e-01, 2.675e-01, 1.359e-01, 2.477e-01, 6.836e-02],\n",
       "       [1.283e+01, 2.233e+01, 8.526e+01, 5.032e+02, 1.088e-01, 1.799e-01,\n",
       "        1.695e-01, 6.861e-02, 2.123e-01, 7.254e-02, 3.061e-01, 1.069e+00,\n",
       "        2.257e+00, 2.513e+01, 6.983e-03, 3.858e-02, 4.683e-02, 1.499e-02,\n",
       "        1.680e-02, 5.617e-03, 1.520e+01, 3.015e+01, 1.053e+02, 7.060e+02,\n",
       "        1.777e-01, 5.343e-01, 6.282e-01, 1.977e-01, 3.407e-01, 1.243e-01],\n",
       "       [1.476e+01, 1.474e+01, 9.487e+01, 6.687e+02, 8.875e-02, 7.780e-02,\n",
       "        4.608e-02, 3.528e-02, 1.521e-01, 5.912e-02, 3.428e-01, 3.981e-01,\n",
       "        2.537e+00, 2.906e+01, 4.732e-03, 1.506e-02, 1.855e-02, 1.067e-02,\n",
       "        2.163e-02, 2.783e-03, 1.727e+01, 1.793e+01, 1.142e+02, 8.808e+02,\n",
       "        1.220e-01, 2.009e-01, 2.151e-01, 1.251e-01, 3.109e-01, 8.187e-02],\n",
       "       [1.340e+01, 2.052e+01, 8.864e+01, 5.567e+02, 1.106e-01, 1.469e-01,\n",
       "        1.445e-01, 8.172e-02, 2.116e-01, 7.325e-02, 3.906e-01, 9.306e-01,\n",
       "        3.093e+00, 3.367e+01, 5.414e-03, 2.265e-02, 3.452e-02, 1.334e-02,\n",
       "        1.705e-02, 4.005e-03, 1.641e+01, 2.966e+01, 1.133e+02, 8.444e+02,\n",
       "        1.574e-01, 3.856e-01, 5.106e-01, 2.051e-01, 3.585e-01, 1.109e-01]])"
      ]
     },
     "execution_count": 4,
     "metadata": {},
     "output_type": "execute_result"
    }
   ],
   "source": [
    "my_svm.support_vectors_"
   ]
  },
  {
   "cell_type": "code",
   "execution_count": null,
   "metadata": {},
   "outputs": [],
   "source": []
  }
 ],
 "metadata": {
  "kernelspec": {
   "display_name": "Python 3",
   "language": "python",
   "name": "python3"
  },
  "language_info": {
   "codemirror_mode": {
    "name": "ipython",
    "version": 3
   },
   "file_extension": ".py",
   "mimetype": "text/x-python",
   "name": "python",
   "nbconvert_exporter": "python",
   "pygments_lexer": "ipython3",
   "version": "3.6.4"
  }
 },
 "nbformat": 4,
 "nbformat_minor": 2
}
