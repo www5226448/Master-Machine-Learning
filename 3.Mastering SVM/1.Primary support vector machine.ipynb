{
 "cells": [
  {
   "cell_type": "markdown",
   "metadata": {},
   "source": [
    "#### 使用Scipy求解SVM"
   ]
  },
  {
   "cell_type": "code",
   "execution_count": 3,
   "metadata": {},
   "outputs": [],
   "source": [
    "from scipy.optimize import minimize\n",
    "import numpy as np\n",
    "class SVM:\n",
    "    def __init__(self,C=0.001):\n",
    "        self.c=C\n",
    "        self.relaxation_type='eq' if C==0 else 'ineq'\n",
    "        \n",
    "    def fit(self,X,y):\n",
    "        y=2*y-1\n",
    "        m,n=X.shape\n",
    "        unknow_vector=np.ones(m+n+1)/(m+n+1)\n",
    "        \n",
    "        self.solver=minimize(type(self).minimize_object,unknow_vector,args=(X,y,self.c),\n",
    "              constraints=({'type': 'ineq', 'args': (X,y),\n",
    "                            'fun':lambda unknow_vector,X,y:type(self).linear_onstraint(unknow_vector,X,y)},\n",
    "                           {'type':self.relaxation_type, 'args': (y,),'fun':lambda unknow_vector,y:type(self).relaxation_constraint(unknow_vector,y)}                         \n",
    "             ))\n",
    "        self.coef_=self.solver.x[:n]\n",
    "        self.intercept_=b=self.solver.x[n]\n",
    "        self.beta_=self.solver.x[n+1:]\n",
    "        \n",
    "        self.support_value=y*(np.dot(X,self.coef_.T)+self.intercept_)+self.beta_\n",
    "        self.support_=np.where(self.support_value<=1.01)\n",
    "        self.support_vectors_=X[self.support_]\n",
    "           \n",
    "        return self\n",
    "    \n",
    "    def predict(self,X):\n",
    "        pred=X@self.coef_+self.intercept_\n",
    "        return (np.sign(pred)+1)/2\n",
    "        \n",
    "    \n",
    "    \n",
    "    def minimize_object(unknow_vector,X,y,c):\n",
    "        m,n=X.shape\n",
    "        w=unknow_vector[:n]  \n",
    "        b=unknow_vector[n]   \n",
    "        beta=unknow_vector[n+1:]\n",
    "        object_value=0.5*np.sum(w**2)+c*np.sum(beta)\n",
    "        return object_value\n",
    "\n",
    "    def linear_onstraint(unknow_vector,X,y):\n",
    "        m,n=X.shape\n",
    "        w=unknow_vector[:n]\n",
    "        b=unknow_vector[n]\n",
    "        beta=unknow_vector[n+1:]\n",
    "        return y*(X@w.T+b)+beta-1\n",
    "\n",
    "    def relaxation_constraint(unknow_vector,y):\n",
    "        n=len(y)\n",
    "        beta=unknow_vector[n+1:]    \n",
    "        return beta"
   ]
  },
  {
   "cell_type": "code",
   "execution_count": 7,
   "metadata": {},
   "outputs": [
    {
     "data": {
      "text/plain": [
       "array([1., 1., 1., 0., 1., 1., 1., 1., 1., 0., 1., 1., 0., 1., 1., 1., 1.,\n",
       "       1., 0., 0., 1., 0., 0., 1., 0., 0., 0., 1., 1., 0., 1., 0., 1., 1.,\n",
       "       1., 1., 0., 1., 1., 1., 1., 1., 0., 0., 1., 1., 1., 0., 1., 0., 1.,\n",
       "       1., 0., 0., 1., 1., 1., 1., 0., 0., 0., 1., 0., 1., 1., 1., 1., 1.,\n",
       "       0., 1., 0., 1., 1., 1., 1., 1., 0., 0., 0., 0., 0., 0., 1., 1., 0.,\n",
       "       1., 1., 0., 0., 0., 1., 0., 1., 0., 0., 1., 0., 0., 0., 1., 1., 1.,\n",
       "       1., 0., 0., 0., 1., 1., 1., 1., 1., 1., 0., 1., 1., 1., 0., 1., 1.,\n",
       "       1., 0., 1., 0., 1., 1., 1., 1., 1., 1., 1., 1., 1., 1., 1., 0., 0.,\n",
       "       1., 0., 1., 1., 0., 1., 0., 1., 0., 1., 1., 0., 0., 1., 1., 0., 0.,\n",
       "       1., 0., 0., 0., 0., 0., 0., 1., 1., 1., 1., 1., 1., 0., 1., 1., 1.,\n",
       "       0.])"
      ]
     },
     "execution_count": 7,
     "metadata": {},
     "output_type": "execute_result"
    }
   ],
   "source": [
    "from sklearn.datasets import load_breast_cancer\n",
    "from sklearn.metrics import accuracy_score\n",
    "from sklearn.model_selection import train_test_split\n",
    "\n",
    "X,y=load_breast_cancer().data,load_breast_cancer().target\n",
    "X_train,X_test,y_train,y_test=train_test_split(X,y,test_size=0.3)\n",
    "my_svm=SVM(C=1).fit(X_train,y_train)\n",
    "pred=my_svm.predict(X_test)\n",
    "pred"
   ]
  },
  {
   "cell_type": "code",
   "execution_count": 8,
   "metadata": {},
   "outputs": [
    {
     "data": {
      "text/plain": [
       "0.9298245614035088"
      ]
     },
     "execution_count": 8,
     "metadata": {},
     "output_type": "execute_result"
    }
   ],
   "source": [
    "accuracy_score(y_test,pred)"
   ]
  },
  {
   "cell_type": "code",
   "execution_count": 9,
   "metadata": {},
   "outputs": [
    {
     "data": {
      "text/plain": [
       "array([[1.458e+01, 2.153e+01, 9.741e+01, 6.448e+02, 1.054e-01, 1.868e-01,\n",
       "        1.425e-01, 8.783e-02, 2.252e-01, 6.924e-02, 2.545e-01, 9.832e-01,\n",
       "        2.110e+00, 2.105e+01, 4.452e-03, 3.055e-02, 2.681e-02, 1.352e-02,\n",
       "        1.454e-02, 3.711e-03, 1.762e+01, 3.321e+01, 1.224e+02, 8.969e+02,\n",
       "        1.525e-01, 6.643e-01, 5.539e-01, 2.701e-01, 4.264e-01, 1.275e-01],\n",
       "       [1.585e+01, 2.395e+01, 1.037e+02, 7.827e+02, 8.401e-02, 1.002e-01,\n",
       "        9.938e-02, 5.364e-02, 1.847e-01, 5.338e-02, 4.033e-01, 1.078e+00,\n",
       "        2.903e+00, 3.658e+01, 9.769e-03, 3.126e-02, 5.051e-02, 1.992e-02,\n",
       "        2.981e-02, 3.002e-03, 1.684e+01, 2.766e+01, 1.120e+02, 8.765e+02,\n",
       "        1.131e-01, 1.924e-01, 2.322e-01, 1.119e-01, 2.809e-01, 6.287e-02],\n",
       "       [1.315e+01, 1.534e+01, 8.531e+01, 5.389e+02, 9.384e-02, 8.498e-02,\n",
       "        9.293e-02, 3.483e-02, 1.822e-01, 6.207e-02, 2.710e-01, 7.927e-01,\n",
       "        1.819e+00, 2.279e+01, 8.584e-03, 2.017e-02, 3.047e-02, 9.536e-03,\n",
       "        2.769e-02, 3.479e-03, 1.477e+01, 2.050e+01, 9.767e+01, 6.773e+02,\n",
       "        1.478e-01, 2.256e-01, 3.009e-01, 9.722e-02, 3.849e-01, 8.633e-02]])"
      ]
     },
     "execution_count": 9,
     "metadata": {},
     "output_type": "execute_result"
    }
   ],
   "source": [
    "my_svm.support_vectors_"
   ]
  }
 ],
 "metadata": {
  "kernelspec": {
   "display_name": "Python 3",
   "language": "python",
   "name": "python3"
  },
  "language_info": {
   "codemirror_mode": {
    "name": "ipython",
    "version": 3
   },
   "file_extension": ".py",
   "mimetype": "text/x-python",
   "name": "python",
   "nbconvert_exporter": "python",
   "pygments_lexer": "ipython3",
   "version": "3.6.8"
  }
 },
 "nbformat": 4,
 "nbformat_minor": 2
}
